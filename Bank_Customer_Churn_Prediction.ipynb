{
  "nbformat": 4,
  "nbformat_minor": 0,
  "metadata": {
    "colab": {
      "name": "Bank Customer Churn Prediction.ipynb",
      "provenance": [],
      "collapsed_sections": []
    },
    "kernelspec": {
      "name": "python3",
      "display_name": "Python 3"
    }
  },
  "cells": [
    {
      "cell_type": "markdown",
      "metadata": {
        "id": "DThX-67tSlzo"
      },
      "source": [
        "# Customer Churn Prediction\n",
        "# Author: Wenkang Wei\n",
        "## Goal\n",
        "The goals of this project are following:\n",
        "1. visualize and identify the factors/features\n",
        "that contributes to the churn of customers\n",
        "2. Construct and train a machine learning model to predict the \n",
        "possibility of churns and help custumer service target the factors\n",
        "that may lead to churn and prevent customer churn, reduce loss of profit\n",
        "## Dataset\n",
        "The dataset is from [kaggle](https://www.kaggle.com/adammaus/predicting-churn-for-bank-customers)\n",
        "There are 14 attributes in the dataset. The information of the dataset is shown as follow:\n",
        "+ **RowNumber** — the record (row) number and has no effect on the output.\n",
        "+ CustomerId — contains random values and has no effect on customer leaving the bank.\n",
        "+ **Surname** — the surname of a customer has no impact on their decision to leave the bank.\n",
        "+ **CreditScore** — can have an effect on customer churn, since a customer with a higher credit score is less likely to leave the bank.\n",
        "Geography — a customer’s location can affect their decision to leave the bank. \n",
        "+ **Gender** — it’s interesting to explore whether gender plays a role in a customer leaving the bank. We’ll include this column, too.\n",
        "+ **Age** — this is certainly relevant, since older customers are less likely to leave their bank than younger ones.\n",
        "+ **Tenure** — refers to the number of years that the customer has been a client of the bank. Normally, older clients are more loyal and less likely to leave a bank.\n",
        "+ **Balance** — also a very good indicator of customer churn, as people with a higher balance in their accounts are less likely to leave the bank compared to those with lower balances.\n",
        "+ **NumOfProducts** — refers to the number of products that a customer has purchased through the bank.\n",
        "+ **HasCrCard** — denotes whether or not a customer has a credit card. This column is also relevant, since people with a credit card are less likely to leave the bank. (0=No,1=Yes)\n",
        "+ **IsActiveMember** — active customers are less likely to leave the bank, so we’ll keep this. (0=No,1=Yes)\n",
        "+ **EstimatedSalary** — as with balance, people with lower salaries are more likely to leave the bank compared to those with higher salaries.\n",
        "+ **Exited** — whether or not the customer left the bank. This is what we have to predict. (0=No,1=Yes)"
      ]
    },
    {
      "cell_type": "markdown",
      "metadata": {
        "id": "OSuRDlPyXLCJ"
      },
      "source": [
        "## **Outline of the data analysis process:**\n",
        "### 1. Data exploration and Visualization\n",
        "In this step, we are going to load the data from google drive (if you have downloaded the data from kaggle to your google drive). Then we will visualize and analyze the dataset to see each attribute and there relationship\n",
        "### 2. Data Preprocessing\n",
        "In this sectoin, we are to do following steps:\n",
        "+ Clean the data as there may be many missing data like NuLL and NaN, \n",
        "+ Convert descriptive data (like text data) into numerical representation so that we can use them to train machine learning models\n",
        "+ Transform data into suitable forms. For example, in categorical data, we need to convert each class of data into one_hot encoding format so that each class is weighted equally and help improve performance of machine learning model.**Some transformations are following:**\n",
        "  - one_hot encoding\n",
        "  - label encoding\n",
        "  - Normalization/Scaling of data\n",
        "\n",
        "+ Split dataset into test set and training set\n",
        "\n",
        "### 3. Model Selection and Evaluation\n",
        "This section is to \n",
        "+ Choose different machine learning models, like logistic regression, decision tree, random forest(decision tree with bagging), SVM classifier. The models could be linear or nonlinear.\n",
        "+ Then we will train, tune models using GridSearch method\n",
        "+ Evaluate models using Cross-validation method and Analyze performance using **ROC curve (receiver operation characteristic curve) and AUC (Area under curve)**\n",
        "\n",
        "### 4. Improvement on Model Performance using feature selection\n",
        "  The section is to improve the performance of models in Section 3 by using feature selection method to choose and excludes some features.\n",
        "\n",
        "  Note that during Section 3, training models, some features may be already selected if we use L1 regularization in the loss function."
      ]
    },
    {
      "cell_type": "code",
      "metadata": {
        "id": "Xm0w3hFBRpG4"
      },
      "source": [
        ""
      ],
      "execution_count": null,
      "outputs": []
    },
    {
      "cell_type": "markdown",
      "metadata": {
        "id": "7-UWkVljcK-J"
      },
      "source": [
        "## 1. Load, Visualize and understand the dataset\n",
        "There are several things we need to analyze:\n",
        "\n",
        "+ Determine the target feature and the labels in target\n",
        "+ Analyze the correlation between target and discrete/continuous features\n",
        "+ Analyze the correlation among different features \n",
        "+ Determine the number of missing values\n",
        "+ Analyze and determine the possible outlier data\n",
        "+ Plan to use what strategies to handle missing values and outliers"
      ]
    },
    {
      "cell_type": "code",
      "metadata": {
        "id": "K7VENdo3cUFm"
      },
      "source": [
        "# install pydrive to load data from google drive\n",
        "!pip install -U -q PyDrive\n",
        "\n",
        "from pydrive.auth import GoogleAuth\n",
        "from pydrive.drive import GoogleDrive\n",
        "from google.colab import auth\n",
        "from oauth2client.client import GoogleCredentials\n",
        "\n",
        "# Authenticate user to access google drive\n",
        "auth.authenticate_user()\n",
        "gauth = GoogleAuth()\n",
        "gauth.credentials = GoogleCredentials.get_application_default()\n",
        "drive = GoogleDrive(gauth)"
      ],
      "execution_count": null,
      "outputs": []
    },
    {
      "cell_type": "code",
      "metadata": {
        "id": "UEb-znXUch0w"
      },
      "source": [
        "# get the shareable link of your file from google drive\n",
        "# The link should be something like \n",
        "# https://drive.google.com/file/d/<the id we should copy >/view?usp=sharing\n",
        "id = \"1-xoA9FoSeHofmvP-zlvR6f7OzYvl5T9G\"\n",
        "# id = \"1hToFUitLcAVfQ3OFW18blhSUfSVMYCX5\"\n",
        "\n",
        "file = drive.CreateFile({'id':id}) \n",
        "file.GetContentFile('bank_churn') "
      ],
      "execution_count": null,
      "outputs": []
    },
    {
      "cell_type": "code",
      "metadata": {
        "id": "paAlbalJdYdl",
        "colab": {
          "base_uri": "https://localhost:8080/",
          "height": 195
        },
        "outputId": "3ec33857-287b-47b4-9e8f-dd7b5c312e16"
      },
      "source": [
        "import pandas as pd\n",
        "# load data file called \"bank_churn.csv\" \n",
        "# This data file and this notebook should be in the same folder\n",
        "churn_df = pd.read_csv('bank_churn')\n",
        "churn_df.head()"
      ],
      "execution_count": null,
      "outputs": [
        {
          "output_type": "execute_result",
          "data": {
            "text/html": [
              "<div>\n",
              "<style scoped>\n",
              "    .dataframe tbody tr th:only-of-type {\n",
              "        vertical-align: middle;\n",
              "    }\n",
              "\n",
              "    .dataframe tbody tr th {\n",
              "        vertical-align: top;\n",
              "    }\n",
              "\n",
              "    .dataframe thead th {\n",
              "        text-align: right;\n",
              "    }\n",
              "</style>\n",
              "<table border=\"1\" class=\"dataframe\">\n",
              "  <thead>\n",
              "    <tr style=\"text-align: right;\">\n",
              "      <th></th>\n",
              "      <th>RowNumber</th>\n",
              "      <th>CustomerId</th>\n",
              "      <th>Surname</th>\n",
              "      <th>CreditScore</th>\n",
              "      <th>Geography</th>\n",
              "      <th>Gender</th>\n",
              "      <th>Age</th>\n",
              "      <th>Tenure</th>\n",
              "      <th>Balance</th>\n",
              "      <th>NumOfProducts</th>\n",
              "      <th>HasCrCard</th>\n",
              "      <th>IsActiveMember</th>\n",
              "      <th>EstimatedSalary</th>\n",
              "      <th>Exited</th>\n",
              "    </tr>\n",
              "  </thead>\n",
              "  <tbody>\n",
              "    <tr>\n",
              "      <th>0</th>\n",
              "      <td>1</td>\n",
              "      <td>15634602</td>\n",
              "      <td>Hargrave</td>\n",
              "      <td>619</td>\n",
              "      <td>France</td>\n",
              "      <td>Female</td>\n",
              "      <td>42</td>\n",
              "      <td>2</td>\n",
              "      <td>0.00</td>\n",
              "      <td>1</td>\n",
              "      <td>1</td>\n",
              "      <td>1</td>\n",
              "      <td>101348.88</td>\n",
              "      <td>1</td>\n",
              "    </tr>\n",
              "    <tr>\n",
              "      <th>1</th>\n",
              "      <td>2</td>\n",
              "      <td>15647311</td>\n",
              "      <td>Hill</td>\n",
              "      <td>608</td>\n",
              "      <td>Spain</td>\n",
              "      <td>Female</td>\n",
              "      <td>41</td>\n",
              "      <td>1</td>\n",
              "      <td>83807.86</td>\n",
              "      <td>1</td>\n",
              "      <td>0</td>\n",
              "      <td>1</td>\n",
              "      <td>112542.58</td>\n",
              "      <td>0</td>\n",
              "    </tr>\n",
              "    <tr>\n",
              "      <th>2</th>\n",
              "      <td>3</td>\n",
              "      <td>15619304</td>\n",
              "      <td>Onio</td>\n",
              "      <td>502</td>\n",
              "      <td>France</td>\n",
              "      <td>Female</td>\n",
              "      <td>42</td>\n",
              "      <td>8</td>\n",
              "      <td>159660.80</td>\n",
              "      <td>3</td>\n",
              "      <td>1</td>\n",
              "      <td>0</td>\n",
              "      <td>113931.57</td>\n",
              "      <td>1</td>\n",
              "    </tr>\n",
              "    <tr>\n",
              "      <th>3</th>\n",
              "      <td>4</td>\n",
              "      <td>15701354</td>\n",
              "      <td>Boni</td>\n",
              "      <td>699</td>\n",
              "      <td>France</td>\n",
              "      <td>Female</td>\n",
              "      <td>39</td>\n",
              "      <td>1</td>\n",
              "      <td>0.00</td>\n",
              "      <td>2</td>\n",
              "      <td>0</td>\n",
              "      <td>0</td>\n",
              "      <td>93826.63</td>\n",
              "      <td>0</td>\n",
              "    </tr>\n",
              "    <tr>\n",
              "      <th>4</th>\n",
              "      <td>5</td>\n",
              "      <td>15737888</td>\n",
              "      <td>Mitchell</td>\n",
              "      <td>850</td>\n",
              "      <td>Spain</td>\n",
              "      <td>Female</td>\n",
              "      <td>43</td>\n",
              "      <td>2</td>\n",
              "      <td>125510.82</td>\n",
              "      <td>1</td>\n",
              "      <td>1</td>\n",
              "      <td>1</td>\n",
              "      <td>79084.10</td>\n",
              "      <td>0</td>\n",
              "    </tr>\n",
              "  </tbody>\n",
              "</table>\n",
              "</div>"
            ],
            "text/plain": [
              "   RowNumber  CustomerId   Surname  ...  IsActiveMember EstimatedSalary Exited\n",
              "0          1    15634602  Hargrave  ...               1       101348.88      1\n",
              "1          2    15647311      Hill  ...               1       112542.58      0\n",
              "2          3    15619304      Onio  ...               0       113931.57      1\n",
              "3          4    15701354      Boni  ...               0        93826.63      0\n",
              "4          5    15737888  Mitchell  ...               1        79084.10      0\n",
              "\n",
              "[5 rows x 14 columns]"
            ]
          },
          "metadata": {
            "tags": []
          },
          "execution_count": 5
        }
      ]
    },
    {
      "cell_type": "code",
      "metadata": {
        "id": "-wU96IsqdYkS",
        "colab": {
          "base_uri": "https://localhost:8080/",
          "height": 386
        },
        "outputId": "2db611df-2dd2-4177-c73a-293335868a23"
      },
      "source": [
        "churn_df.info()"
      ],
      "execution_count": null,
      "outputs": [
        {
          "output_type": "stream",
          "text": [
            "<class 'pandas.core.frame.DataFrame'>\n",
            "RangeIndex: 10000 entries, 0 to 9999\n",
            "Data columns (total 14 columns):\n",
            " #   Column           Non-Null Count  Dtype  \n",
            "---  ------           --------------  -----  \n",
            " 0   RowNumber        10000 non-null  int64  \n",
            " 1   CustomerId       10000 non-null  int64  \n",
            " 2   Surname          10000 non-null  object \n",
            " 3   CreditScore      10000 non-null  int64  \n",
            " 4   Geography        10000 non-null  object \n",
            " 5   Gender           10000 non-null  object \n",
            " 6   Age              10000 non-null  int64  \n",
            " 7   Tenure           10000 non-null  int64  \n",
            " 8   Balance          10000 non-null  float64\n",
            " 9   NumOfProducts    10000 non-null  int64  \n",
            " 10  HasCrCard        10000 non-null  int64  \n",
            " 11  IsActiveMember   10000 non-null  int64  \n",
            " 12  EstimatedSalary  10000 non-null  float64\n",
            " 13  Exited           10000 non-null  int64  \n",
            "dtypes: float64(2), int64(9), object(3)\n",
            "memory usage: 1.1+ MB\n"
          ],
          "name": "stdout"
        }
      ]
    },
    {
      "cell_type": "code",
      "metadata": {
        "id": "MaLb5LV9dYrf",
        "colab": {
          "base_uri": "https://localhost:8080/",
          "height": 281
        },
        "outputId": "1cc73ce0-d26d-4d35-eaac-88ef1fa4e36a"
      },
      "source": [
        "# To check the number of unique classes of each attributes (hence the function is called nunique)\n",
        "churn_df.nunique()"
      ],
      "execution_count": null,
      "outputs": [
        {
          "output_type": "execute_result",
          "data": {
            "text/plain": [
              "RowNumber          10000\n",
              "CustomerId         10000\n",
              "Surname             2932\n",
              "CreditScore          460\n",
              "Geography              3\n",
              "Gender                 2\n",
              "Age                   70\n",
              "Tenure                11\n",
              "Balance             6382\n",
              "NumOfProducts          4\n",
              "HasCrCard              2\n",
              "IsActiveMember         2\n",
              "EstimatedSalary     9999\n",
              "Exited                 2\n",
              "dtype: int64"
            ]
          },
          "metadata": {
            "tags": []
          },
          "execution_count": 7
        }
      ]
    },
    {
      "cell_type": "markdown",
      "metadata": {
        "id": "RLigm2oEggkV"
      },
      "source": [
        "\n",
        "## **Note 1.1: Select \"Exited\" attribute as target feature to predict**\n",
        "\n",
        "Since we want to predict if there is customer churn,\n",
        "we need to train model to predict if customers exit, Hence we use the attribute \"Exited\" to be target feature the models need to predict"
      ]
    },
    {
      "cell_type": "code",
      "metadata": {
        "id": "kxWU-PFldYy_",
        "colab": {
          "base_uri": "https://localhost:8080/",
          "height": 386
        },
        "outputId": "db5c1b37-30c3-4826-a4b9-b815b2c22ff0"
      },
      "source": [
        "# Separate the target and the other features to analyze the features only\n",
        "y = churn_df['Exited']\n",
        "# churn_df = churn_df.drop(columns=['Exited'])\n",
        "churn_df.info()"
      ],
      "execution_count": null,
      "outputs": [
        {
          "output_type": "stream",
          "text": [
            "<class 'pandas.core.frame.DataFrame'>\n",
            "RangeIndex: 10000 entries, 0 to 9999\n",
            "Data columns (total 14 columns):\n",
            " #   Column           Non-Null Count  Dtype  \n",
            "---  ------           --------------  -----  \n",
            " 0   RowNumber        10000 non-null  int64  \n",
            " 1   CustomerId       10000 non-null  int64  \n",
            " 2   Surname          10000 non-null  object \n",
            " 3   CreditScore      10000 non-null  int64  \n",
            " 4   Geography        10000 non-null  object \n",
            " 5   Gender           10000 non-null  object \n",
            " 6   Age              10000 non-null  int64  \n",
            " 7   Tenure           10000 non-null  int64  \n",
            " 8   Balance          10000 non-null  float64\n",
            " 9   NumOfProducts    10000 non-null  int64  \n",
            " 10  HasCrCard        10000 non-null  int64  \n",
            " 11  IsActiveMember   10000 non-null  int64  \n",
            " 12  EstimatedSalary  10000 non-null  float64\n",
            " 13  Exited           10000 non-null  int64  \n",
            "dtypes: float64(2), int64(9), object(3)\n",
            "memory usage: 1.1+ MB\n"
          ],
          "name": "stdout"
        }
      ]
    },
    {
      "cell_type": "code",
      "metadata": {
        "id": "wTBxtuPRhWoi",
        "colab": {
          "base_uri": "https://localhost:8080/",
          "height": 34
        },
        "outputId": "1c7fd58a-ae37-4ccc-abe3-e802a25015af"
      },
      "source": [
        "# To see the label of each class and the amount of each class in the target\n",
        "y.unique()"
      ],
      "execution_count": null,
      "outputs": [
        {
          "output_type": "execute_result",
          "data": {
            "text/plain": [
              "array([1, 0])"
            ]
          },
          "metadata": {
            "tags": []
          },
          "execution_count": 9
        }
      ]
    },
    {
      "cell_type": "code",
      "metadata": {
        "id": "LA1AFB5biajM",
        "colab": {
          "base_uri": "https://localhost:8080/",
          "height": 34
        },
        "outputId": "7c9315be-b898-4dd7-d9bf-277ea5721c8a"
      },
      "source": [
        "print(\"Number of clas 1: \",y.sum(), \"Total sampel amount:\",len(y))"
      ],
      "execution_count": null,
      "outputs": [
        {
          "output_type": "stream",
          "text": [
            "Number of clas 1:  2037 Total sampel amount: 10000\n"
          ],
          "name": "stdout"
        }
      ]
    },
    {
      "cell_type": "code",
      "metadata": {
        "id": "cIxHO87Uuza3",
        "colab": {
          "base_uri": "https://localhost:8080/",
          "height": 281
        },
        "outputId": "ba7eca69-f36d-4013-ba90-5deb5fc3c6e3"
      },
      "source": [
        "# Check number of NaN or NULL\n",
        "churn_df.isna().sum()"
      ],
      "execution_count": null,
      "outputs": [
        {
          "output_type": "execute_result",
          "data": {
            "text/plain": [
              "RowNumber          0\n",
              "CustomerId         0\n",
              "Surname            0\n",
              "CreditScore        0\n",
              "Geography          0\n",
              "Gender             0\n",
              "Age                0\n",
              "Tenure             0\n",
              "Balance            0\n",
              "NumOfProducts      0\n",
              "HasCrCard          0\n",
              "IsActiveMember     0\n",
              "EstimatedSalary    0\n",
              "Exited             0\n",
              "dtype: int64"
            ]
          },
          "metadata": {
            "tags": []
          },
          "execution_count": 11
        }
      ]
    },
    {
      "cell_type": "markdown",
      "metadata": {
        "id": "1rRoSHNyi1_w"
      },
      "source": [
        "## Note 1.2: Analyze and Visualize attributes\n",
        "1. Separate the discrete data and continuous data to analyze them \n",
        "2. Discrete Data: use count plot to analyze the amount\n",
        "3. Contiuous Data: use box plot to analyze the distribution"
      ]
    },
    {
      "cell_type": "code",
      "metadata": {
        "id": "GyezUq2rirI5",
        "colab": {
          "base_uri": "https://localhost:8080/",
          "height": 402
        },
        "outputId": "f1470480-25c7-4a53-fbfa-c3fc83f98119"
      },
      "source": [
        "discrete_features = ['Geography','Gender','NumOfProducts','HasCrCard','IsActiveMember','Tenure']\n",
        "churn_df[['Geography','Gender','NumOfProducts','HasCrCard','IsActiveMember','Tenure']]"
      ],
      "execution_count": null,
      "outputs": [
        {
          "output_type": "execute_result",
          "data": {
            "text/html": [
              "<div>\n",
              "<style scoped>\n",
              "    .dataframe tbody tr th:only-of-type {\n",
              "        vertical-align: middle;\n",
              "    }\n",
              "\n",
              "    .dataframe tbody tr th {\n",
              "        vertical-align: top;\n",
              "    }\n",
              "\n",
              "    .dataframe thead th {\n",
              "        text-align: right;\n",
              "    }\n",
              "</style>\n",
              "<table border=\"1\" class=\"dataframe\">\n",
              "  <thead>\n",
              "    <tr style=\"text-align: right;\">\n",
              "      <th></th>\n",
              "      <th>Geography</th>\n",
              "      <th>Gender</th>\n",
              "      <th>NumOfProducts</th>\n",
              "      <th>HasCrCard</th>\n",
              "      <th>IsActiveMember</th>\n",
              "      <th>Tenure</th>\n",
              "    </tr>\n",
              "  </thead>\n",
              "  <tbody>\n",
              "    <tr>\n",
              "      <th>0</th>\n",
              "      <td>France</td>\n",
              "      <td>Female</td>\n",
              "      <td>1</td>\n",
              "      <td>1</td>\n",
              "      <td>1</td>\n",
              "      <td>2</td>\n",
              "    </tr>\n",
              "    <tr>\n",
              "      <th>1</th>\n",
              "      <td>Spain</td>\n",
              "      <td>Female</td>\n",
              "      <td>1</td>\n",
              "      <td>0</td>\n",
              "      <td>1</td>\n",
              "      <td>1</td>\n",
              "    </tr>\n",
              "    <tr>\n",
              "      <th>2</th>\n",
              "      <td>France</td>\n",
              "      <td>Female</td>\n",
              "      <td>3</td>\n",
              "      <td>1</td>\n",
              "      <td>0</td>\n",
              "      <td>8</td>\n",
              "    </tr>\n",
              "    <tr>\n",
              "      <th>3</th>\n",
              "      <td>France</td>\n",
              "      <td>Female</td>\n",
              "      <td>2</td>\n",
              "      <td>0</td>\n",
              "      <td>0</td>\n",
              "      <td>1</td>\n",
              "    </tr>\n",
              "    <tr>\n",
              "      <th>4</th>\n",
              "      <td>Spain</td>\n",
              "      <td>Female</td>\n",
              "      <td>1</td>\n",
              "      <td>1</td>\n",
              "      <td>1</td>\n",
              "      <td>2</td>\n",
              "    </tr>\n",
              "    <tr>\n",
              "      <th>...</th>\n",
              "      <td>...</td>\n",
              "      <td>...</td>\n",
              "      <td>...</td>\n",
              "      <td>...</td>\n",
              "      <td>...</td>\n",
              "      <td>...</td>\n",
              "    </tr>\n",
              "    <tr>\n",
              "      <th>9995</th>\n",
              "      <td>France</td>\n",
              "      <td>Male</td>\n",
              "      <td>2</td>\n",
              "      <td>1</td>\n",
              "      <td>0</td>\n",
              "      <td>5</td>\n",
              "    </tr>\n",
              "    <tr>\n",
              "      <th>9996</th>\n",
              "      <td>France</td>\n",
              "      <td>Male</td>\n",
              "      <td>1</td>\n",
              "      <td>1</td>\n",
              "      <td>1</td>\n",
              "      <td>10</td>\n",
              "    </tr>\n",
              "    <tr>\n",
              "      <th>9997</th>\n",
              "      <td>France</td>\n",
              "      <td>Female</td>\n",
              "      <td>1</td>\n",
              "      <td>0</td>\n",
              "      <td>1</td>\n",
              "      <td>7</td>\n",
              "    </tr>\n",
              "    <tr>\n",
              "      <th>9998</th>\n",
              "      <td>Germany</td>\n",
              "      <td>Male</td>\n",
              "      <td>2</td>\n",
              "      <td>1</td>\n",
              "      <td>0</td>\n",
              "      <td>3</td>\n",
              "    </tr>\n",
              "    <tr>\n",
              "      <th>9999</th>\n",
              "      <td>France</td>\n",
              "      <td>Female</td>\n",
              "      <td>1</td>\n",
              "      <td>1</td>\n",
              "      <td>0</td>\n",
              "      <td>4</td>\n",
              "    </tr>\n",
              "  </tbody>\n",
              "</table>\n",
              "<p>10000 rows × 6 columns</p>\n",
              "</div>"
            ],
            "text/plain": [
              "     Geography  Gender  NumOfProducts  HasCrCard  IsActiveMember  Tenure\n",
              "0       France  Female              1          1               1       2\n",
              "1        Spain  Female              1          0               1       1\n",
              "2       France  Female              3          1               0       8\n",
              "3       France  Female              2          0               0       1\n",
              "4        Spain  Female              1          1               1       2\n",
              "...        ...     ...            ...        ...             ...     ...\n",
              "9995    France    Male              2          1               0       5\n",
              "9996    France    Male              1          1               1      10\n",
              "9997    France  Female              1          0               1       7\n",
              "9998   Germany    Male              2          1               0       3\n",
              "9999    France  Female              1          1               0       4\n",
              "\n",
              "[10000 rows x 6 columns]"
            ]
          },
          "metadata": {
            "tags": []
          },
          "execution_count": 12
        }
      ]
    },
    {
      "cell_type": "code",
      "metadata": {
        "id": "ey4UauLTnTh6",
        "colab": {
          "base_uri": "https://localhost:8080/",
          "height": 72
        },
        "outputId": "c8de023b-8d9e-433e-f1f3-2fbb4679ec86"
      },
      "source": [
        "import matplotlib.pyplot as plt\n",
        "import seaborn as sns\n",
        "import numpy as np"
      ],
      "execution_count": null,
      "outputs": [
        {
          "output_type": "stream",
          "text": [
            "/usr/local/lib/python3.6/dist-packages/statsmodels/tools/_testing.py:19: FutureWarning: pandas.util.testing is deprecated. Use the functions in the public API at pandas.testing instead.\n",
            "  import pandas.util.testing as tm\n"
          ],
          "name": "stderr"
        }
      ]
    },
    {
      "cell_type": "markdown",
      "metadata": {
        "id": "DQ29xAaboRU3"
      },
      "source": [
        "**Note 1.1.1:** Analyze the relationship between target \"Exited\" and other Numerical features"
      ]
    },
    {
      "cell_type": "code",
      "metadata": {
        "id": "t8D4BEf_nTo9",
        "colab": {
          "base_uri": "https://localhost:8080/",
          "height": 624
        },
        "outputId": "a050b6c9-75f3-4912-d1f7-a97246ecb7ed"
      },
      "source": [
        "# boxplot for numerical feature\n",
        "_,axss = plt.subplots(2,3, figsize=[20,10])\n",
        "sns.boxplot(x='Exited', y ='CreditScore', data=churn_df, ax=axss[0][0])\n",
        "sns.boxplot(x='Exited', y ='Age', data=churn_df, ax=axss[0][1])\n",
        "sns.boxplot(x='Exited', y ='Tenure', data=churn_df, ax=axss[0][2])\n",
        "sns.boxplot(x='Exited', y ='NumOfProducts', data=churn_df, ax=axss[1][0])\n",
        "sns.boxplot(x='Exited', y ='Balance', data=churn_df, ax=axss[1][1])\n",
        "sns.boxplot(x='Exited', y ='EstimatedSalary', data=churn_df, ax=axss[1][2])"
      ],
      "execution_count": null,
      "outputs": [
        {
          "output_type": "execute_result",
          "data": {
            "text/plain": [
              "<matplotlib.axes._subplots.AxesSubplot at 0x7ff5cc716b70>"
            ]
          },
          "metadata": {
            "tags": []
          },
          "execution_count": 14
        },
        {
          "output_type": "display_data",
          "data": {
            "image/png": "[encoded data removed]",
            "text/plain": [
              "<Figure size 1440x720 with 6 Axes>"
            ]
          },
          "metadata": {
            "tags": [],
            "needs_background": "light"
          }
        }
      ]
    },
    {
      "cell_type": "markdown",
      "metadata": {
        "id": "CHy2ojORpZLd"
      },
      "source": [
        "**Note 1.1.2:** Analyze correlation among \"Exited\" and other Categorical Features\n",
        "\n",
        "Note that:\n",
        "1. In sns.countplot(), y is always the count of each class of x feature and **hue** is the z-axis data which must be a categorical features. Then the plot \n",
        "show the count of intersection of x and hue. So count plot is usually good to visualize categorical data"
      ]
    },
    {
      "cell_type": "code",
      "metadata": {
        "id": "daDYWiEym96M",
        "colab": {
          "base_uri": "https://localhost:8080/",
          "height": 624
        },
        "outputId": "4838e6c0-ef18-4ab6-bea0-d23ef5b2aba1"
      },
      "source": [
        "# understand categorical feature\n",
        "# 'Geography', 'Gender'\n",
        "# 'HasCrCard', 'IsActiveMember'\n",
        "_,axss = plt.subplots(2,2, figsize=[20,10])\n",
        "sns.countplot(x='Exited', hue='Geography', data=churn_df, ax=axss[0][0])\n",
        "sns.countplot(x='Exited', hue='Gender', data=churn_df, ax=axss[0][1])\n",
        "sns.countplot(x='Exited', hue='HasCrCard', data=churn_df, ax=axss[1][0])\n",
        "sns.countplot(x='Exited', hue='IsActiveMember', data=churn_df, ax=axss[1][1])"
      ],
      "execution_count": null,
      "outputs": [
        {
          "output_type": "execute_result",
          "data": {
            "text/plain": [
              "<matplotlib.axes._subplots.AxesSubplot at 0x7ff5cbf23f60>"
            ]
          },
          "metadata": {
            "tags": []
          },
          "execution_count": 15
        },
        {
          "output_type": "display_data",
          "data": {
            "image/png": "[encoded data removed]",
            "text/plain": [
              "<Figure size 1440x720 with 4 Axes>"
            ]
          },
          "metadata": {
            "tags": [],
            "needs_background": "light"
          }
        }
      ]
    },
    {
      "cell_type": "markdown",
      "metadata": {
        "id": "X-AdRzEsrGSK"
      },
      "source": [
        "Note 1.2: Analyze Correlation between continuous data using Heatmap plot"
      ]
    },
    {
      "cell_type": "code",
      "metadata": {
        "id": "qL36_20op_A1",
        "colab": {
          "base_uri": "https://localhost:8080/",
          "height": 358
        },
        "outputId": "856a47de-b104-4b5e-9e9f-33d16b0bf522"
      },
      "source": [
        "correlation = churn_df[['IsActiveMember','HasCrCard','CreditScore', 'Age', 'Tenure', 'NumOfProducts','Balance', 'EstimatedSalary']].corr()\n",
        "sns.heatmap(correlation)"
      ],
      "execution_count": null,
      "outputs": [
        {
          "output_type": "execute_result",
          "data": {
            "text/plain": [
              "<matplotlib.axes._subplots.AxesSubplot at 0x7ff5cbe28550>"
            ]
          },
          "metadata": {
            "tags": []
          },
          "execution_count": 16
        },
        {
          "output_type": "display_data",
          "data": {
            "image/png": "[encoded data removed]",
            "text/plain": [
              "<Figure size 432x288 with 2 Axes>"
            ]
          },
          "metadata": {
            "tags": [],
            "needs_background": "light"
          }
        }
      ]
    },
    {
      "cell_type": "code",
      "metadata": {
        "id": "09jAIR7Rp_E0",
        "colab": {
          "base_uri": "https://localhost:8080/",
          "height": 284
        },
        "outputId": "7540d183-64cc-4f90-8dd2-5c37fe42db2f"
      },
      "source": [
        "correlation"
      ],
      "execution_count": null,
      "outputs": [
        {
          "output_type": "execute_result",
          "data": {
            "text/html": [
              "<div>\n",
              "<style scoped>\n",
              "    .dataframe tbody tr th:only-of-type {\n",
              "        vertical-align: middle;\n",
              "    }\n",
              "\n",
              "    .dataframe tbody tr th {\n",
              "        vertical-align: top;\n",
              "    }\n",
              "\n",
              "    .dataframe thead th {\n",
              "        text-align: right;\n",
              "    }\n",
              "</style>\n",
              "<table border=\"1\" class=\"dataframe\">\n",
              "  <thead>\n",
              "    <tr style=\"text-align: right;\">\n",
              "      <th></th>\n",
              "      <th>IsActiveMember</th>\n",
              "      <th>HasCrCard</th>\n",
              "      <th>CreditScore</th>\n",
              "      <th>Age</th>\n",
              "      <th>Tenure</th>\n",
              "      <th>NumOfProducts</th>\n",
              "      <th>Balance</th>\n",
              "      <th>EstimatedSalary</th>\n",
              "    </tr>\n",
              "  </thead>\n",
              "  <tbody>\n",
              "    <tr>\n",
              "      <th>IsActiveMember</th>\n",
              "      <td>1.000000</td>\n",
              "      <td>-0.011866</td>\n",
              "      <td>0.025651</td>\n",
              "      <td>0.085472</td>\n",
              "      <td>-0.028362</td>\n",
              "      <td>0.009612</td>\n",
              "      <td>-0.010084</td>\n",
              "      <td>-0.011421</td>\n",
              "    </tr>\n",
              "    <tr>\n",
              "      <th>HasCrCard</th>\n",
              "      <td>-0.011866</td>\n",
              "      <td>1.000000</td>\n",
              "      <td>-0.005458</td>\n",
              "      <td>-0.011721</td>\n",
              "      <td>0.022583</td>\n",
              "      <td>0.003183</td>\n",
              "      <td>-0.014858</td>\n",
              "      <td>-0.009933</td>\n",
              "    </tr>\n",
              "    <tr>\n",
              "      <th>CreditScore</th>\n",
              "      <td>0.025651</td>\n",
              "      <td>-0.005458</td>\n",
              "      <td>1.000000</td>\n",
              "      <td>-0.003965</td>\n",
              "      <td>0.000842</td>\n",
              "      <td>0.012238</td>\n",
              "      <td>0.006268</td>\n",
              "      <td>-0.001384</td>\n",
              "    </tr>\n",
              "    <tr>\n",
              "      <th>Age</th>\n",
              "      <td>0.085472</td>\n",
              "      <td>-0.011721</td>\n",
              "      <td>-0.003965</td>\n",
              "      <td>1.000000</td>\n",
              "      <td>-0.009997</td>\n",
              "      <td>-0.030680</td>\n",
              "      <td>0.028308</td>\n",
              "      <td>-0.007201</td>\n",
              "    </tr>\n",
              "    <tr>\n",
              "      <th>Tenure</th>\n",
              "      <td>-0.028362</td>\n",
              "      <td>0.022583</td>\n",
              "      <td>0.000842</td>\n",
              "      <td>-0.009997</td>\n",
              "      <td>1.000000</td>\n",
              "      <td>0.013444</td>\n",
              "      <td>-0.012254</td>\n",
              "      <td>0.007784</td>\n",
              "    </tr>\n",
              "    <tr>\n",
              "      <th>NumOfProducts</th>\n",
              "      <td>0.009612</td>\n",
              "      <td>0.003183</td>\n",
              "      <td>0.012238</td>\n",
              "      <td>-0.030680</td>\n",
              "      <td>0.013444</td>\n",
              "      <td>1.000000</td>\n",
              "      <td>-0.304180</td>\n",
              "      <td>0.014204</td>\n",
              "    </tr>\n",
              "    <tr>\n",
              "      <th>Balance</th>\n",
              "      <td>-0.010084</td>\n",
              "      <td>-0.014858</td>\n",
              "      <td>0.006268</td>\n",
              "      <td>0.028308</td>\n",
              "      <td>-0.012254</td>\n",
              "      <td>-0.304180</td>\n",
              "      <td>1.000000</td>\n",
              "      <td>0.012797</td>\n",
              "    </tr>\n",
              "    <tr>\n",
              "      <th>EstimatedSalary</th>\n",
              "      <td>-0.011421</td>\n",
              "      <td>-0.009933</td>\n",
              "      <td>-0.001384</td>\n",
              "      <td>-0.007201</td>\n",
              "      <td>0.007784</td>\n",
              "      <td>0.014204</td>\n",
              "      <td>0.012797</td>\n",
              "      <td>1.000000</td>\n",
              "    </tr>\n",
              "  </tbody>\n",
              "</table>\n",
              "</div>"
            ],
            "text/plain": [
              "                 IsActiveMember  HasCrCard  ...   Balance  EstimatedSalary\n",
              "IsActiveMember         1.000000  -0.011866  ... -0.010084        -0.011421\n",
              "HasCrCard             -0.011866   1.000000  ... -0.014858        -0.009933\n",
              "CreditScore            0.025651  -0.005458  ...  0.006268        -0.001384\n",
              "Age                    0.085472  -0.011721  ...  0.028308        -0.007201\n",
              "Tenure                -0.028362   0.022583  ... -0.012254         0.007784\n",
              "NumOfProducts          0.009612   0.003183  ... -0.304180         0.014204\n",
              "Balance               -0.010084  -0.014858  ...  1.000000         0.012797\n",
              "EstimatedSalary       -0.011421  -0.009933  ...  0.012797         1.000000\n",
              "\n",
              "[8 rows x 8 columns]"
            ]
          },
          "metadata": {
            "tags": []
          },
          "execution_count": 17
        }
      ]
    },
    {
      "cell_type": "markdown",
      "metadata": {
        "id": "XtpYAhypvHwc"
      },
      "source": [
        "Note 1.2.2: Analyze correlation between features\n",
        "From the visualization above, we can know that"
      ]
    },
    {
      "cell_type": "code",
      "metadata": {
        "id": "g5ObypRxj8xb"
      },
      "source": [
        ""
      ],
      "execution_count": null,
      "outputs": []
    },
    {
      "cell_type": "code",
      "metadata": {
        "id": "x7j8wJgoj82E"
      },
      "source": [
        ""
      ],
      "execution_count": null,
      "outputs": []
    },
    {
      "cell_type": "markdown",
      "metadata": {
        "id": "j5T0n2Ohj9TX"
      },
      "source": [
        "# 2. Data Preprocessing\n",
        "1. **Missing Values:** \n",
        "  From part 1, we know that there are no missing values in the dataset, so we don't need to fill NaN value with other valid value \n",
        "\n",
        "2. **One-hot encoding:** \n",
        "  \n",
        "  in order to train the model, we need to use one-hot encoding to convert the categorical data who doesn't have order information(just like gender: male and female, they don't have order) into a 0,1 vector and allow model to learn from numerical data\n",
        "\n",
        "3. **Label encoding:** \n",
        "  \n",
        "  For the data that contain order information, like \"one\", \"two\",\"three\" and the order informatoin matters, we need to convert the text data into numerical labels like 1,2,3. The value of the number matters. (The number can affect the weight update during training model using gradient descent)However, this dataset doesn't contain such kind of data, so we just skip it.\n",
        "\n",
        "4. **Split training set and test set using stratification method:**  \n",
        "  \n",
        "  In this step, I use stratification method to split the dataset into training set and test set, such that the distribution/ratio of each class data in training set, test set are as same as original dataset. This method can guarantee the training set and test set contains all classes of data and each class of data must be trained by model.\n",
        "\n",
        "5. **Normalize data to boost the training:**\n",
        "\n",
        "  Since different types of numeric data have different range of values and this can affect the learning speed (For example, in gradient descent, weight update depends on the feature value. when the range of value is very large, some update of weight changes a lot. Otherwise, some weight changes slightly. This affects the convergence speed of weight and model)\n",
        "\n",
        "6. **Note:**\n",
        "\n",
        "  In Normalization, we should fit the training data only and then transformboth training data and test data. Because when fitting on the test data, the information of test data, like the range of value, will leak to normalized training data. We should not use test data to fit anything. \n"
      ]
    },
    {
      "cell_type": "code",
      "metadata": {
        "id": "RPufRB3op_pN"
      },
      "source": [
        "drop_list = ['RowNumber','CustomerId','Surname','Exited']\n",
        "X= churn_df.drop(columns=drop_list)"
      ],
      "execution_count": null,
      "outputs": []
    },
    {
      "cell_type": "markdown",
      "metadata": {
        "id": "L_IX26uvpj_J"
      },
      "source": [
        "### **Note 2.1:**\n",
        "Use one-hot encoder to convert descriptive labels to numerical labels"
      ]
    },
    {
      "cell_type": "code",
      "metadata": {
        "id": "RT7PWRQblTDu",
        "colab": {
          "base_uri": "https://localhost:8080/",
          "height": 105
        },
        "outputId": "c6b1bb85-eff3-48f8-b950-14bca9b78e47"
      },
      "source": [
        "# Convert Gender label to 0,1 labels\n",
        "# X['Gender'] = X['Gender']=='Female'\n",
        "# X['Gender'] = X['Gender']=='Male'\n",
        "\n",
        "## X['Gender'] select the column of 'Gender',  \n",
        "## .loc[X['Gender']=='Female']=0 : locate the rows that satisfy the condition in the column 'Gender'\n",
        "## and then replace values in column 'Gender' only\n",
        "X['Gender'].loc[X['Gender']=='Female'] = 0\n",
        "X['Gender'].loc[X['Gender']=='Male'] = 1"
      ],
      "execution_count": null,
      "outputs": [
        {
          "output_type": "stream",
          "text": [
            "/usr/local/lib/python3.6/dist-packages/pandas/core/indexing.py:671: SettingWithCopyWarning: \n",
            "A value is trying to be set on a copy of a slice from a DataFrame\n",
            "\n",
            "See the caveats in the documentation: https://pandas.pydata.org/pandas-docs/stable/user_guide/indexing.html#returning-a-view-versus-a-copy\n",
            "  self._setitem_with_indexer(indexer, value)\n"
          ],
          "name": "stderr"
        }
      ]
    },
    {
      "cell_type": "code",
      "metadata": {
        "id": "g86EGOMfljEc",
        "colab": {
          "base_uri": "https://localhost:8080/",
          "height": 195
        },
        "outputId": "e43d1eab-6d28-4764-d038-fe57a2a2d31d"
      },
      "source": [
        "X.head()\n",
        "# X.groupby('Gender').max()"
      ],
      "execution_count": null,
      "outputs": [
        {
          "output_type": "execute_result",
          "data": {
            "text/html": [
              "<div>\n",
              "<style scoped>\n",
              "    .dataframe tbody tr th:only-of-type {\n",
              "        vertical-align: middle;\n",
              "    }\n",
              "\n",
              "    .dataframe tbody tr th {\n",
              "        vertical-align: top;\n",
              "    }\n",
              "\n",
              "    .dataframe thead th {\n",
              "        text-align: right;\n",
              "    }\n",
              "</style>\n",
              "<table border=\"1\" class=\"dataframe\">\n",
              "  <thead>\n",
              "    <tr style=\"text-align: right;\">\n",
              "      <th></th>\n",
              "      <th>CreditScore</th>\n",
              "      <th>Geography</th>\n",
              "      <th>Gender</th>\n",
              "      <th>Age</th>\n",
              "      <th>Tenure</th>\n",
              "      <th>Balance</th>\n",
              "      <th>NumOfProducts</th>\n",
              "      <th>HasCrCard</th>\n",
              "      <th>IsActiveMember</th>\n",
              "      <th>EstimatedSalary</th>\n",
              "    </tr>\n",
              "  </thead>\n",
              "  <tbody>\n",
              "    <tr>\n",
              "      <th>0</th>\n",
              "      <td>619</td>\n",
              "      <td>France</td>\n",
              "      <td>0</td>\n",
              "      <td>42</td>\n",
              "      <td>2</td>\n",
              "      <td>0.00</td>\n",
              "      <td>1</td>\n",
              "      <td>1</td>\n",
              "      <td>1</td>\n",
              "      <td>101348.88</td>\n",
              "    </tr>\n",
              "    <tr>\n",
              "      <th>1</th>\n",
              "      <td>608</td>\n",
              "      <td>Spain</td>\n",
              "      <td>0</td>\n",
              "      <td>41</td>\n",
              "      <td>1</td>\n",
              "      <td>83807.86</td>\n",
              "      <td>1</td>\n",
              "      <td>0</td>\n",
              "      <td>1</td>\n",
              "      <td>112542.58</td>\n",
              "    </tr>\n",
              "    <tr>\n",
              "      <th>2</th>\n",
              "      <td>502</td>\n",
              "      <td>France</td>\n",
              "      <td>0</td>\n",
              "      <td>42</td>\n",
              "      <td>8</td>\n",
              "      <td>159660.80</td>\n",
              "      <td>3</td>\n",
              "      <td>1</td>\n",
              "      <td>0</td>\n",
              "      <td>113931.57</td>\n",
              "    </tr>\n",
              "    <tr>\n",
              "      <th>3</th>\n",
              "      <td>699</td>\n",
              "      <td>France</td>\n",
              "      <td>0</td>\n",
              "      <td>39</td>\n",
              "      <td>1</td>\n",
              "      <td>0.00</td>\n",
              "      <td>2</td>\n",
              "      <td>0</td>\n",
              "      <td>0</td>\n",
              "      <td>93826.63</td>\n",
              "    </tr>\n",
              "    <tr>\n",
              "      <th>4</th>\n",
              "      <td>850</td>\n",
              "      <td>Spain</td>\n",
              "      <td>0</td>\n",
              "      <td>43</td>\n",
              "      <td>2</td>\n",
              "      <td>125510.82</td>\n",
              "      <td>1</td>\n",
              "      <td>1</td>\n",
              "      <td>1</td>\n",
              "      <td>79084.10</td>\n",
              "    </tr>\n",
              "  </tbody>\n",
              "</table>\n",
              "</div>"
            ],
            "text/plain": [
              "   CreditScore Geography Gender  ...  HasCrCard  IsActiveMember  EstimatedSalary\n",
              "0          619    France      0  ...          1               1        101348.88\n",
              "1          608     Spain      0  ...          0               1        112542.58\n",
              "2          502    France      0  ...          1               0        113931.57\n",
              "3          699    France      0  ...          0               0         93826.63\n",
              "4          850     Spain      0  ...          1               1         79084.10\n",
              "\n",
              "[5 rows x 10 columns]"
            ]
          },
          "metadata": {
            "tags": []
          },
          "execution_count": 20
        }
      ]
    },
    {
      "cell_type": "code",
      "metadata": {
        "id": "eUnF1qjZp_r9"
      },
      "source": [
        "one_hot_features = ['Geography']\n",
        "X=pd.get_dummies(X,columns=one_hot_features)"
      ],
      "execution_count": null,
      "outputs": []
    },
    {
      "cell_type": "code",
      "metadata": {
        "id": "z6NNleTXp_IQ",
        "colab": {
          "base_uri": "https://localhost:8080/",
          "height": 52
        },
        "outputId": "3dbffaff-1197-4f93-bdfc-c4d58e86dcd1"
      },
      "source": [
        "# Split dataset into training set and testset \n",
        "from sklearn import model_selection\n",
        "from sklearn.model_selection import GridSearchCV, cross_validate, StratifiedShuffleSplit\n",
        "# Using stratification method to stratify the dataset based on classes in target feature y\n",
        "# and then split test set, training set. Finally, shuffle two datasets\n",
        "X_train, X_test, y_train, y_test = model_selection.train_test_split(X, y, test_size=0.25, stratify = y, random_state=1)\n",
        "\n",
        "print('training data has ' + str(X_train.shape[0]) + ' observation with ' + str(X_train.shape[1]) + ' features')\n",
        "print('test data has ' + str(X_test.shape[0]) + ' observation with ' + str(X_test.shape[1]) + ' features')"
      ],
      "execution_count": null,
      "outputs": [
        {
          "output_type": "stream",
          "text": [
            "training data has 7500 observation with 12 features\n",
            "test data has 2500 observation with 12 features\n"
          ],
          "name": "stdout"
        }
      ]
    },
    {
      "cell_type": "markdown",
      "metadata": {
        "id": "8055D2caoXY-"
      },
      "source": [
        "### **Note 2.2:**\n",
        "Normalize/Scale the data "
      ]
    },
    {
      "cell_type": "code",
      "metadata": {
        "id": "AV2jkBb_oSm2"
      },
      "source": [
        "from sklearn.preprocessing import StandardScaler, MinMaxScaler\n",
        "ss = StandardScaler()\n",
        "X_train = ss.fit_transform(X_train)\n",
        "X_test = ss.transform(X_test)\n",
        "\n",
        "## If using Min-Max scaler\n",
        "# sm = MinMaxScaler()\n",
        "# X_train = sm.fit_transform(X_train,max=1.0,min=0.0)\n",
        "# X_test = ss.transform(X_test)"
      ],
      "execution_count": null,
      "outputs": []
    },
    {
      "cell_type": "code",
      "metadata": {
        "id": "az7v3NAtoS0G",
        "colab": {
          "base_uri": "https://localhost:8080/",
          "height": 281
        },
        "outputId": "90daa920-5081-48d5-bf06-341e5d7fef51"
      },
      "source": [
        "X_train[:5]"
      ],
      "execution_count": null,
      "outputs": [
        {
          "output_type": "execute_result",
          "data": {
            "text/plain": [
              "array([[-0.17298471,  0.91333963,  0.28920217,  1.7311989 , -1.21891593,\n",
              "        -0.91276854, -1.5421992 ,  0.968496  , -0.35204406, -0.99973337,\n",
              "        -0.57755555,  1.73205081],\n",
              "       [ 0.60240695, -1.09488296, -1.50931877, -0.3411556 , -0.07697728,\n",
              "        -0.91276854,  0.64842466, -1.03252879,  0.07231455, -0.99973337,\n",
              "         1.73143519, -0.57735027],\n",
              "       [-1.05176192, -1.09488296, -0.18409282,  1.38580648, -1.21891593,\n",
              "         0.79610915, -1.5421992 , -1.03252879, -0.02671055,  1.0002667 ,\n",
              "        -0.57755555, -0.57735027],\n",
              "       [-0.04892204, -1.09488296,  0.85715615,  0.69502165,  0.2296249 ,\n",
              "        -0.91276854,  0.64842466,  0.968496  ,  0.86622125,  1.0002667 ,\n",
              "        -0.57755555, -0.57735027],\n",
              "       [ 0.81951661, -1.09488296,  0.57317916,  0.69502165,  0.23727778,\n",
              "         0.79610915,  0.64842466, -1.03252879, -0.49661695, -0.99973337,\n",
              "        -0.57755555,  1.73205081]])"
            ]
          },
          "metadata": {
            "tags": []
          },
          "execution_count": 24
        }
      ]
    },
    {
      "cell_type": "markdown",
      "metadata": {
        "id": "EoPgcm19p4Rk"
      },
      "source": [
        "# 3. Model Selecction and Evaluation\n",
        "1. Models to try:\n",
        "  + Logistic Regression\n",
        "  + Decision Tree\n",
        "  + Random Forest\n",
        "  + KNN\n",
        "2. Model Evaluation\n",
        "  + Cross-Validation to assess models / estimate Model performance\n",
        "  + ROC curve (Receiver Operating Characteristic Curve)\n",
        "  + AUC (Area under curve)\n"
      ]
    },
    {
      "cell_type": "code",
      "metadata": {
        "id": "jF3XfOY_oSj0"
      },
      "source": [
        "from sklearn.ensemble import RandomForestClassifier\n",
        "from sklearn.linear_model import LogisticRegression\n",
        "from sklearn.neighbors import KNeighborsClassifier\n",
        "from sklearn.svm import SVC\n",
        "\n",
        "from sklearn.model_selection import StratifiedKFold, cross_val_score\n",
        "\n",
        "rf_clf = RandomForestClassifier()\n",
        "lr_clf = LogisticRegression()\n",
        "knn_clf = KNeighborsClassifier()\n",
        "svc_clf = SVC()\n",
        "model_ls = [rf_clf, lr_clf, knn_clf,svc_clf]\n",
        "model_names = ['Random Forest','logistic Reg', 'KNN','SVC']"
      ],
      "execution_count": null,
      "outputs": []
    },
    {
      "cell_type": "markdown",
      "metadata": {
        "id": "9vBPTxyQxjZb"
      },
      "source": [
        "### Note 3.1:\n",
        "Train and evaluate the models using Cross-Validatoin"
      ]
    },
    {
      "cell_type": "code",
      "metadata": {
        "id": "dqsZKpUboSgP",
        "colab": {
          "base_uri": "https://localhost:8080/",
          "height": 87
        },
        "outputId": "50d60f9e-f6f6-4712-83bc-4368a111e4e7"
      },
      "source": [
        "for i in range(len(model_ls)):\n",
        "  score = cross_val_score(model_ls[i], X_train, y_train, cv=5)\n",
        "  print(\"Model: \",model_names[i], \"Score: \", score)"
      ],
      "execution_count": null,
      "outputs": [
        {
          "output_type": "stream",
          "text": [
            "Model:  Random Forest Score:  [0.87533333 0.87       0.854      0.85866667 0.86466667]\n",
            "Model:  logistic Reg Score:  [0.81933333 0.80666667 0.80666667 0.80933333 0.82      ]\n",
            "Model:  KNN Score:  [0.82533333 0.836      0.814      0.824      0.832     ]\n",
            "Model:  SVC Score:  [0.87133333 0.85066667 0.846      0.84733333 0.856     ]\n"
          ],
          "name": "stdout"
        }
      ]
    },
    {
      "cell_type": "markdown",
      "metadata": {
        "id": "wDkG6dnsxsEM"
      },
      "source": [
        "### Note 3.2: Tune the parameters to get better score\n",
        "Tune the models using GridSearch to improve preformance and evaluate the models"
      ]
    },
    {
      "cell_type": "code",
      "metadata": {
        "id": "_lmlZIba-HK4"
      },
      "source": [
        "# helper function for printing out grid search results \n",
        "def print_grid_search_metrics(gs):\n",
        "    print (\"Best score: \" + str(gs.best_score_))\n",
        "    print (\"Best parameters set:\")\n",
        "    best_parameters = gs.best_params_\n",
        "    for param_name in sorted(best_parameters.keys()):\n",
        "        print(param_name + ':' + str(best_parameters[param_name]))"
      ],
      "execution_count": null,
      "outputs": []
    },
    {
      "cell_type": "code",
      "metadata": {
        "id": "aA6-dltayDDv",
        "colab": {
          "base_uri": "https://localhost:8080/",
          "height": 246
        },
        "outputId": "6f2f5dd9-81ae-459c-e99e-1b72df401a6e"
      },
      "source": [
        "from sklearn.model_selection import GridSearchCV\n",
        "parameters = {\n",
        "    'penalty':('l1', 'l2'), \n",
        "    'C':(0.001, 0.01, 1, 5, 10)\n",
        "}\n",
        "Grid_LR = GridSearchCV(LogisticRegression(solver='liblinear'),parameters, cv=5)\n",
        "Grid_LR.fit(X_train, y_train)"
      ],
      "execution_count": null,
      "outputs": [
        {
          "output_type": "execute_result",
          "data": {
            "text/plain": [
              "GridSearchCV(cv=5, error_score=nan,\n",
              "             estimator=LogisticRegression(C=1.0, class_weight=None, dual=False,\n",
              "                                          fit_intercept=True,\n",
              "                                          intercept_scaling=1, l1_ratio=None,\n",
              "                                          max_iter=100, multi_class='auto',\n",
              "                                          n_jobs=None, penalty='l2',\n",
              "                                          random_state=None, solver='liblinear',\n",
              "                                          tol=0.0001, verbose=0,\n",
              "                                          warm_start=False),\n",
              "             iid='deprecated', n_jobs=None,\n",
              "             param_grid={'C': (0.001, 0.01, 1, 5, 10), 'penalty': ('l1', 'l2')},\n",
              "             pre_dispatch='2*n_jobs', refit=True, return_train_score=False,\n",
              "             scoring=None, verbose=0)"
            ]
          },
          "metadata": {
            "tags": []
          },
          "execution_count": 28
        }
      ]
    },
    {
      "cell_type": "code",
      "metadata": {
        "id": "iPhkTQajyDUX",
        "colab": {
          "base_uri": "https://localhost:8080/",
          "height": 87
        },
        "outputId": "be14d684-19c2-43b7-c754-abc915964061"
      },
      "source": [
        "print_grid_search_metrics(Grid_LR)\n",
        "best_LR_model = Grid_LR.best_estimator_"
      ],
      "execution_count": null,
      "outputs": [
        {
          "output_type": "stream",
          "text": [
            "Best score: 0.8124\n",
            "Best parameters set:\n",
            "C:1\n",
            "penalty:l2\n"
          ],
          "name": "stdout"
        }
      ]
    },
    {
      "cell_type": "code",
      "metadata": {
        "id": "mNUwrqmxyDtH",
        "colab": {
          "base_uri": "https://localhost:8080/",
          "height": 193
        },
        "outputId": "56327311-2208-467c-e2ba-c354e1d7a94d"
      },
      "source": [
        "# Tune KNN model\n",
        "parameters = {\n",
        "    'n_neighbors':[1,3,5,7,9,12,15,20]\n",
        "}\n",
        "Grid_KNN = GridSearchCV(KNeighborsClassifier(),parameters, cv=5)\n",
        "Grid_KNN.fit(X_train, y_train)"
      ],
      "execution_count": null,
      "outputs": [
        {
          "output_type": "execute_result",
          "data": {
            "text/plain": [
              "GridSearchCV(cv=5, error_score=nan,\n",
              "             estimator=KNeighborsClassifier(algorithm='auto', leaf_size=30,\n",
              "                                            metric='minkowski',\n",
              "                                            metric_params=None, n_jobs=None,\n",
              "                                            n_neighbors=5, p=2,\n",
              "                                            weights='uniform'),\n",
              "             iid='deprecated', n_jobs=None,\n",
              "             param_grid={'n_neighbors': [1, 3, 5, 7, 9, 12, 15, 20]},\n",
              "             pre_dispatch='2*n_jobs', refit=True, return_train_score=False,\n",
              "             scoring=None, verbose=0)"
            ]
          },
          "metadata": {
            "tags": []
          },
          "execution_count": 30
        }
      ]
    },
    {
      "cell_type": "code",
      "metadata": {
        "id": "_ahGAlibyDQg",
        "colab": {
          "base_uri": "https://localhost:8080/",
          "height": 70
        },
        "outputId": "8b3737ea-cffb-4333-a50d-9d386c3d5151"
      },
      "source": [
        "print_grid_search_metrics(Grid_KNN)\n",
        "best_KNN_model = Grid_KNN.best_estimator_"
      ],
      "execution_count": null,
      "outputs": [
        {
          "output_type": "stream",
          "text": [
            "Best score: 0.8329333333333333\n",
            "Best parameters set:\n",
            "n_neighbors:15\n"
          ],
          "name": "stdout"
        }
      ]
    },
    {
      "cell_type": "code",
      "metadata": {
        "id": "VKwgw2Iw_TGM",
        "colab": {
          "base_uri": "https://localhost:8080/",
          "height": 369
        },
        "outputId": "3ad3742d-137c-4559-c24b-50108e6cf68b"
      },
      "source": [
        "parameters = {\n",
        "    'n_estimators' : [40,60,80,100,120,150]\n",
        "}\n",
        "Grid_RF = GridSearchCV(RandomForestClassifier(),parameters, cv=5)\n",
        "Grid_RF.fit(X_train, y_train)"
      ],
      "execution_count": null,
      "outputs": [
        {
          "output_type": "execute_result",
          "data": {
            "text/plain": [
              "GridSearchCV(cv=5, error_score=nan,\n",
              "             estimator=RandomForestClassifier(bootstrap=True, ccp_alpha=0.0,\n",
              "                                              class_weight=None,\n",
              "                                              criterion='gini', max_depth=None,\n",
              "                                              max_features='auto',\n",
              "                                              max_leaf_nodes=None,\n",
              "                                              max_samples=None,\n",
              "                                              min_impurity_decrease=0.0,\n",
              "                                              min_impurity_split=None,\n",
              "                                              min_samples_leaf=1,\n",
              "                                              min_samples_split=2,\n",
              "                                              min_weight_fraction_leaf=0.0,\n",
              "                                              n_estimators=100, n_jobs=None,\n",
              "                                              oob_score=False,\n",
              "                                              random_state=None, verbose=0,\n",
              "                                              warm_start=False),\n",
              "             iid='deprecated', n_jobs=None,\n",
              "             param_grid={'n_estimators': [40, 60, 80, 100, 120, 150]},\n",
              "             pre_dispatch='2*n_jobs', refit=True, return_train_score=False,\n",
              "             scoring=None, verbose=0)"
            ]
          },
          "metadata": {
            "tags": []
          },
          "execution_count": 32
        }
      ]
    },
    {
      "cell_type": "code",
      "metadata": {
        "id": "J9vo3bG3_TXn",
        "colab": {
          "base_uri": "https://localhost:8080/",
          "height": 70
        },
        "outputId": "f2512e4b-00fc-4a04-bf97-5005c54e1605"
      },
      "source": [
        "print_grid_search_metrics(Grid_RF)\n",
        "best_RF_model = Grid_RF.best_estimator_"
      ],
      "execution_count": null,
      "outputs": [
        {
          "output_type": "stream",
          "text": [
            "Best score: 0.8669333333333334\n",
            "Best parameters set:\n",
            "n_estimators:100\n"
          ],
          "name": "stdout"
        }
      ]
    },
    {
      "cell_type": "code",
      "metadata": {
        "id": "WdtX5ZfO_TVt",
        "colab": {
          "base_uri": "https://localhost:8080/",
          "height": 228
        },
        "outputId": "ffc6bcb8-03cb-4a4a-9076-d7b6c418c3b6"
      },
      "source": [
        "# SVC\n",
        "parameters = {\n",
        "    'C' : [0.001,0.01, 1, 3 ,5],\n",
        "    'kernel':['rbf','poly'],\n",
        "    'degree': [2,3,4],  # degree of the polynominal kernel\n",
        "    \"probability\":[True]\n",
        "}\n",
        "Grid_SVC = GridSearchCV(SVC(),parameters, cv=5)\n",
        "Grid_SVC.fit(X_train, y_train)"
      ],
      "execution_count": null,
      "outputs": [
        {
          "output_type": "execute_result",
          "data": {
            "text/plain": [
              "GridSearchCV(cv=5, error_score=nan,\n",
              "             estimator=SVC(C=1.0, break_ties=False, cache_size=200,\n",
              "                           class_weight=None, coef0=0.0,\n",
              "                           decision_function_shape='ovr', degree=3,\n",
              "                           gamma='scale', kernel='rbf', max_iter=-1,\n",
              "                           probability=False, random_state=None, shrinking=True,\n",
              "                           tol=0.001, verbose=False),\n",
              "             iid='deprecated', n_jobs=None,\n",
              "             param_grid={'C': [0.001, 0.01, 1, 3, 5], 'degree': [2, 3, 4],\n",
              "                         'kernel': ['rbf', 'poly'], 'probability': [True]},\n",
              "             pre_dispatch='2*n_jobs', refit=True, return_train_score=False,\n",
              "             scoring=None, verbose=0)"
            ]
          },
          "metadata": {
            "tags": []
          },
          "execution_count": 34
        }
      ]
    },
    {
      "cell_type": "code",
      "metadata": {
        "id": "Rbyvavjx_TUQ",
        "colab": {
          "base_uri": "https://localhost:8080/",
          "height": 122
        },
        "outputId": "75432513-1f82-4371-fc9a-d46b89e49475"
      },
      "source": [
        "print_grid_search_metrics(Grid_SVC)\n",
        "best_SVC_model = Grid_SVC.best_estimator_"
      ],
      "execution_count": null,
      "outputs": [
        {
          "output_type": "stream",
          "text": [
            "Best score: 0.8585333333333333\n",
            "Best parameters set:\n",
            "C:3\n",
            "degree:2\n",
            "kernel:rbf\n",
            "probability:True\n"
          ],
          "name": "stdout"
        }
      ]
    },
    {
      "cell_type": "markdown",
      "metadata": {
        "id": "iDTbDoNxBoeA"
      },
      "source": [
        "### Note 3.2: Evaluate all models using cross-validation and ROC,AUC"
      ]
    },
    {
      "cell_type": "code",
      "metadata": {
        "id": "2NI-Bl2Q_TPo",
        "colab": {
          "base_uri": "https://localhost:8080/",
          "height": 105
        },
        "outputId": "0a08fdcc-e0ed-4368-c3d4-862b35b8fed7"
      },
      "source": [
        "from sklearn.metrics import confusion_matrix, recall_score, precision_score, classification_report\n",
        "model_names = ['logistic Reg','KNN','Random Forest','SVC']\n",
        "confusion_matrices =[]\n",
        "matrices = [ confusion_matrix(y_test,best_LR_model.predict(X_test)),\n",
        " confusion_matrix(y_test,best_KNN_model.predict(X_test)),\n",
        " confusion_matrix(y_test,best_RF_model.predict(X_test)),\n",
        " confusion_matrix(y_test,best_SVC_model.predict(X_test))]\n",
        "\n",
        "for i in range(len(matrices)):\n",
        "  confusion_matrices.append((model_names[i], matrices[i]))\n",
        "\n",
        "\n",
        "\n",
        "confusion_matrices"
      ],
      "execution_count": null,
      "outputs": [
        {
          "output_type": "execute_result",
          "data": {
            "text/plain": [
              "[('logistic Reg', array([[1921,   70],\n",
              "         [ 410,   99]])), ('KNN', array([[1920,   71],\n",
              "         [ 352,  157]])), ('Random Forest', array([[1926,   65],\n",
              "         [ 285,  224]])), ('SVC', array([[1930,   61],\n",
              "         [ 296,  213]]))]"
            ]
          },
          "metadata": {
            "tags": []
          },
          "execution_count": 36
        }
      ]
    },
    {
      "cell_type": "code",
      "metadata": {
        "id": "LMO-c1g5BnNs",
        "colab": {
          "base_uri": "https://localhost:8080/",
          "height": 369
        },
        "outputId": "d235cf3c-d22f-4951-abf3-6db0865b7b0e"
      },
      "source": [
        "# Compute and print accuracy, precision, recall\n",
        "def cal_evaluation(classifier, cm):\n",
        "    tn = cm[0][0]\n",
        "    fp = cm[0][1]\n",
        "    fn = cm[1][0]\n",
        "    tp = cm[1][1]\n",
        "    accuracy  = (tp + tn) / (tp + fp + fn + tn + 0.0)\n",
        "    precision = tp / (tp + fp + 0.0)\n",
        "    recall = tp / (tp + fn + 0.0)\n",
        "    print (classifier)\n",
        "    print (\"Accuracy is: \" + str(accuracy))\n",
        "    print (\"precision is: \" + str(precision))\n",
        "    print (\"recall is: \" + str(recall))\n",
        "    print ()\n",
        "\n",
        "\n",
        "def draw_confusion_matrices(confusion_matricies):\n",
        "    class_names = ['Not','Churn']\n",
        "    for cm in confusion_matrices:\n",
        "        classifier, cm = cm[0], cm[1]\n",
        "        cal_evaluation(classifier, cm)\n",
        "\n",
        "draw_confusion_matrices(confusion_matrices)"
      ],
      "execution_count": null,
      "outputs": [
        {
          "output_type": "stream",
          "text": [
            "logistic Reg\n",
            "Accuracy is: 0.808\n",
            "precision is: 0.5857988165680473\n",
            "recall is: 0.1944990176817289\n",
            "\n",
            "KNN\n",
            "Accuracy is: 0.8308\n",
            "precision is: 0.6885964912280702\n",
            "recall is: 0.30844793713163066\n",
            "\n",
            "Random Forest\n",
            "Accuracy is: 0.86\n",
            "precision is: 0.7750865051903114\n",
            "recall is: 0.4400785854616896\n",
            "\n",
            "SVC\n",
            "Accuracy is: 0.8572\n",
            "precision is: 0.7773722627737226\n",
            "recall is: 0.41846758349705304\n",
            "\n"
          ],
          "name": "stdout"
        }
      ]
    },
    {
      "cell_type": "markdown",
      "metadata": {
        "id": "kp9N6qbrj3es"
      },
      "source": [
        "### Note 3.3: \n",
        "Test and Evaluate the models using ROC, AUC"
      ]
    },
    {
      "cell_type": "code",
      "metadata": {
        "id": "_H32hTUHBnbZ",
        "colab": {
          "base_uri": "https://localhost:8080/",
          "height": 313
        },
        "outputId": "5c06fca2-0804-474e-a1b1-4ae60418f1be"
      },
      "source": [
        "from sklearn.metrics import roc_curve, plot_roc_curve, auc\n",
        "def plot_roc(fpr,tpr, threshold, model):\n",
        "  plt.figure(1)\n",
        "  plt.plot([0, 1], [0, 1], 'k--')\n",
        "  plt.plot(fpr, tpr, label=model)\n",
        "  plt.xlabel('False positive rate')\n",
        "  plt.ylabel('True positive rate')\n",
        "  plt.title('ROC curve - {0} Model'.format(model))\n",
        "  plt.legend(loc='best')\n",
        "  plt.show()\n",
        "## We can either use plot roc function from sklearn or the self-defined function\n",
        "#plot_roc_curve(best_LR_model,X_test, y_test,)\n",
        "\n",
        "fpr_LR, tpr_LR, threshold = roc_curve(y_test, best_LR_model.predict_proba(X_test)[:,1])\n",
        "## Using self-define ROC Curve plot function\n",
        "plot_roc(fpr_LR, tpr_LR, threshold, 'LR')\n",
        "print(\"AUC of LR\",auc(fpr_LR,tpr_LR))"
      ],
      "execution_count": null,
      "outputs": [
        {
          "output_type": "display_data",
          "data": {
            "image/png": "[encoded data removed]",
            "text/plain": [
              "<Figure size 432x288 with 1 Axes>"
            ]
          },
          "metadata": {
            "tags": [],
            "needs_background": "light"
          }
        },
        {
          "output_type": "stream",
          "text": [
            "AUC of LR 0.7722314264879581\n"
          ],
          "name": "stdout"
        }
      ]
    },
    {
      "cell_type": "code",
      "metadata": {
        "id": "64pAYjZmmNNg",
        "colab": {
          "base_uri": "https://localhost:8080/",
          "height": 313
        },
        "outputId": "cb5083d6-e60f-4912-9f8c-e178fe18673e"
      },
      "source": [
        "\n",
        "fpr_SVC, tpr_SVC, threshold_SVC = roc_curve(y_test, best_SVC_model.predict_proba(X_test)[:,1])\n",
        "## Using self-define ROC Curve plot function\n",
        "plot_roc(fpr_SVC, tpr_SVC, threshold_SVC, 'SVC')\n",
        "print(\"AUC of SVC\",auc(fpr_SVC,tpr_SVC))"
      ],
      "execution_count": null,
      "outputs": [
        {
          "output_type": "display_data",
          "data": {
            "image/png": "[encoded data removed]",
            "text/plain": [
              "<Figure size 432x288 with 1 Axes>"
            ]
          },
          "metadata": {
            "tags": [],
            "needs_background": "light"
          }
        },
        {
          "output_type": "stream",
          "text": [
            "AUC of SVC 0.8101461488288655\n"
          ],
          "name": "stdout"
        }
      ]
    },
    {
      "cell_type": "code",
      "metadata": {
        "id": "bt6_UU0FmNeJ",
        "colab": {
          "base_uri": "https://localhost:8080/",
          "height": 313
        },
        "outputId": "cac63fc6-1f67-4a1b-8dfc-b4a0ff68fc1f"
      },
      "source": [
        "fpr_KNN, tpr_KNN, threshold_KNN = roc_curve(y_test, best_KNN_model.predict_proba(X_test)[:,1])\n",
        "## Using self-define ROC Curve plot function\n",
        "plot_roc(fpr_KNN, tpr_KNN, threshold_KNN, 'KNN')\n",
        "print(\"AUC of KNN\",auc(fpr_KNN,tpr_KNN))"
      ],
      "execution_count": null,
      "outputs": [
        {
          "output_type": "display_data",
          "data": {
            "image/png": "[encoded data removed]",
            "text/plain": [
              "<Figure size 432x288 with 1 Axes>"
            ]
          },
          "metadata": {
            "tags": [],
            "needs_background": "light"
          }
        },
        {
          "output_type": "stream",
          "text": [
            "AUC of KNN 0.7966078196678767\n"
          ],
          "name": "stdout"
        }
      ]
    },
    {
      "cell_type": "code",
      "metadata": {
        "id": "maalUOSLmNs3",
        "colab": {
          "base_uri": "https://localhost:8080/",
          "height": 313
        },
        "outputId": "c0015de6-ff3e-42d0-d873-347817f4572d"
      },
      "source": [
        "fpr_RF, tpr_RF, threshold_RF = roc_curve(y_test, best_RF_model.predict_proba(X_test)[:,1])\n",
        "## Using self-define ROC Curve plot function\n",
        "plot_roc(fpr_RF, tpr_RF, threshold_RF, 'RF')\n",
        "print(\"AUC of RF\",auc(fpr_RF,tpr_RF))"
      ],
      "execution_count": null,
      "outputs": [
        {
          "output_type": "display_data",
          "data": {
            "image/png": "[encoded data removed]",
            "text/plain": [
              "<Figure size 432x288 with 1 Axes>"
            ]
          },
          "metadata": {
            "tags": [],
            "needs_background": "light"
          }
        },
        {
          "output_type": "stream",
          "text": [
            "AUC of RF 0.8368799085077346\n"
          ],
          "name": "stdout"
        }
      ]
    },
    {
      "cell_type": "code",
      "metadata": {
        "id": "gNaAlVTTrQet",
        "colab": {
          "base_uri": "https://localhost:8080/",
          "height": 166
        },
        "outputId": "22867184-ed20-429d-a682-c1546f704f5f"
      },
      "source": [
        "# Compute and print accuracy, precision, recall\n",
        "\n",
        "    \n",
        "def draw_performance_tb(confusion_matrix_ls):\n",
        "    def cal_evaluation(classifier, cm):\n",
        "      tn = cm[0][0]\n",
        "      fp = cm[0][1]\n",
        "      fn = cm[1][0]\n",
        "      tp = cm[1][1]\n",
        "      accuracy  = (tp + tn) / (tp + fp + fn + tn + 0.0)\n",
        "      precision = tp / (tp + fp + 0.0)\n",
        "      recall = tp / (tp + fn + 0.0)\n",
        "      return accuracy, precision, recall\n",
        "\n",
        "    class_names = ['Not','Churn']\n",
        "    model_dic = {}\n",
        "    eval_df = pd.DataFrame(columns=['model','Accuracy','Precision','Recall'])\n",
        "    for cm in confusion_matrix_ls:\n",
        "        classifier, cm = cm[0], cm[1]\n",
        "        accuracy, precision, recall = cal_evaluation(classifier, cm)\n",
        "        model_df = pd.DataFrame(data={'model':classifier,'Accuracy':accuracy,'Precision':precision,'Recall':recall},index=[0])\n",
        "        # print(model_df)\n",
        "        eval_df=eval_df.append(model_df ,ignore_index= True) \n",
        "        \n",
        "    return eval_df\n",
        "\n",
        "draw_performance_tb(confusion_matrices)"
      ],
      "execution_count": null,
      "outputs": [
        {
          "output_type": "execute_result",
          "data": {
            "text/html": [
              "<div>\n",
              "<style scoped>\n",
              "    .dataframe tbody tr th:only-of-type {\n",
              "        vertical-align: middle;\n",
              "    }\n",
              "\n",
              "    .dataframe tbody tr th {\n",
              "        vertical-align: top;\n",
              "    }\n",
              "\n",
              "    .dataframe thead th {\n",
              "        text-align: right;\n",
              "    }\n",
              "</style>\n",
              "<table border=\"1\" class=\"dataframe\">\n",
              "  <thead>\n",
              "    <tr style=\"text-align: right;\">\n",
              "      <th></th>\n",
              "      <th>model</th>\n",
              "      <th>Accuracy</th>\n",
              "      <th>Precision</th>\n",
              "      <th>Recall</th>\n",
              "    </tr>\n",
              "  </thead>\n",
              "  <tbody>\n",
              "    <tr>\n",
              "      <th>0</th>\n",
              "      <td>logistic Reg</td>\n",
              "      <td>0.8080</td>\n",
              "      <td>0.585799</td>\n",
              "      <td>0.194499</td>\n",
              "    </tr>\n",
              "    <tr>\n",
              "      <th>1</th>\n",
              "      <td>KNN</td>\n",
              "      <td>0.8308</td>\n",
              "      <td>0.688596</td>\n",
              "      <td>0.308448</td>\n",
              "    </tr>\n",
              "    <tr>\n",
              "      <th>2</th>\n",
              "      <td>Random Forest</td>\n",
              "      <td>0.8600</td>\n",
              "      <td>0.775087</td>\n",
              "      <td>0.440079</td>\n",
              "    </tr>\n",
              "    <tr>\n",
              "      <th>3</th>\n",
              "      <td>SVC</td>\n",
              "      <td>0.8572</td>\n",
              "      <td>0.777372</td>\n",
              "      <td>0.418468</td>\n",
              "    </tr>\n",
              "  </tbody>\n",
              "</table>\n",
              "</div>"
            ],
            "text/plain": [
              "           model  Accuracy  Precision    Recall\n",
              "0   logistic Reg    0.8080   0.585799  0.194499\n",
              "1            KNN    0.8308   0.688596  0.308448\n",
              "2  Random Forest    0.8600   0.775087  0.440079\n",
              "3            SVC    0.8572   0.777372  0.418468"
            ]
          },
          "metadata": {
            "tags": []
          },
          "execution_count": 67
        }
      ]
    },
    {
      "cell_type": "code",
      "metadata": {
        "id": "Youf-2KArQvP"
      },
      "source": [
        ""
      ],
      "execution_count": null,
      "outputs": []
    },
    {
      "cell_type": "markdown",
      "metadata": {
        "id": "NXNg0L5myGkH"
      },
      "source": [
        "# 4. Improvement on the model by using feature selection\n",
        "1. Let check the feature importance computed from RandomForest and the weights of logistic regression, which can tells us how significant each features are.\n",
        "2. Then I use K-mean clustering to find the cluster centroids ann predict each sample belongs to which cluster, which features samples are similar. This prediction can be used as new feature to let models learn more about the feature."
      ]
    },
    {
      "cell_type": "code",
      "metadata": {
        "id": "g0oq_lkQrQ46",
        "colab": {
          "base_uri": "https://localhost:8080/",
          "height": 246
        },
        "outputId": "4fdca92d-748e-4eb8-d32f-2f3e017de475"
      },
      "source": [
        "forest = best_RF_model\n",
        "# forest.fit(X, y)\n",
        "\n",
        "importances = forest.feature_importances_\n",
        "\n",
        "indices = np.argsort(importances)[::-1]\n",
        "\n",
        "# Print the feature ranking\n",
        "print(\"Feature importance ranking by Random Forest Model:\")\n",
        "for ind in range(X.shape[1]):\n",
        "  print (\"{0} : {1}\".format(X.columns[indices[ind]],round(importances[indices[ind]], 4)))"
      ],
      "execution_count": null,
      "outputs": [
        {
          "output_type": "stream",
          "text": [
            "Feature importance ranking by Random Forest Model:\n",
            "Age : 0.2405\n",
            "EstimatedSalary : 0.146\n",
            "CreditScore : 0.1431\n",
            "Balance : 0.1373\n",
            "NumOfProducts : 0.134\n",
            "Tenure : 0.0821\n",
            "IsActiveMember : 0.0348\n",
            "Geography_Germany : 0.0232\n",
            "Gender : 0.021\n",
            "HasCrCard : 0.0187\n",
            "Geography_France : 0.0101\n",
            "Geography_Spain : 0.0091\n"
          ],
          "name": "stdout"
        }
      ]
    },
    {
      "cell_type": "code",
      "metadata": {
        "id": "UEa1MxC8rRFg",
        "colab": {
          "base_uri": "https://localhost:8080/",
          "height": 246
        },
        "outputId": "8f139b89-c235-45be-b5bb-9f289e7bca31"
      },
      "source": [
        "np.random.seed()\n",
        "LRmodel_l2 = best_LR_model\n",
        "\n",
        "LRmodel_l2.coef_[0]\n",
        "\n",
        "indices = np.argsort(abs(LRmodel_l2.coef_[0]))[::-1]\n",
        "\n",
        "print (\"Logistic Regression (L2) Coefficients\")\n",
        "for ind in range(X.shape[1]):\n",
        "  print (\"{0} : {1}\".format(X.columns[indices[ind]],round(LRmodel_l2.coef_[0][indices[ind]], 4)))"
      ],
      "execution_count": null,
      "outputs": [
        {
          "output_type": "stream",
          "text": [
            "Logistic Regression (L2) Coefficients\n",
            "Age : 0.7631\n",
            "IsActiveMember : -0.5169\n",
            "Gender : -0.2529\n",
            "Geography_Germany : 0.2371\n",
            "Balance : 0.1383\n",
            "Geography_France : -0.1338\n",
            "Geography_Spain : -0.0826\n",
            "CreditScore : -0.0636\n",
            "NumOfProducts : -0.056\n",
            "Tenure : -0.0371\n",
            "HasCrCard : -0.0279\n",
            "EstimatedSalary : 0.0247\n"
          ],
          "name": "stdout"
        }
      ]
    },
    {
      "cell_type": "code",
      "metadata": {
        "id": "VUHK_vSz0Nzj",
        "colab": {
          "base_uri": "https://localhost:8080/",
          "height": 246
        },
        "outputId": "0f740da9-05d8-46f1-bec7-2f630b546576"
      },
      "source": [
        "\n",
        "from sklearn.inspection import permutation_importance\n",
        "## Impute feature importance\n",
        " \n",
        "LR_model = best_LR_model\n",
        "importances = permutation_importance(LR_model, X, y, n_repeats=10,random_state=0)\n",
        "importances = importances.importances_mean\n",
        "indices = np.argsort(importances)[::-1]\n",
        "\n",
        "# Print the feature ranking\n",
        "print(\"Feature importance ranking by Logistic Regression Model:\")\n",
        "for ind in range(X.shape[1]):\n",
        "  print (\"{0} : {1}\".format(X.columns[indices[ind]],round(importances[indices[ind]], 4)))"
      ],
      "execution_count": null,
      "outputs": [
        {
          "output_type": "stream",
          "text": [
            "Feature importance ranking by Logistic Regression Model:\n",
            "Balance : 0.0004\n",
            "EstimatedSalary : 0.0002\n",
            "Gender : 0.0001\n",
            "Tenure : 0.0001\n",
            "IsActiveMember : 0.0\n",
            "Geography_Germany : 0.0\n",
            "Geography_Spain : 0.0\n",
            "Geography_France : 0.0\n",
            "HasCrCard : 0.0\n",
            "NumOfProducts : 0.0\n",
            "CreditScore : -0.0\n",
            "Age : -0.0001\n"
          ],
          "name": "stdout"
        }
      ]
    },
    {
      "cell_type": "markdown",
      "metadata": {
        "id": "sMhDUQI3jSw3"
      },
      "source": [
        "### Note 4.1:\n",
        "1. Using  K-Mean clustering to find the clusters and allocate data to different clusters to obtain new features.\n",
        "2. K-Mean Clustering allows us to group the samples that have similar features together and tell models what kinds of data samples are similar to help improve model performances "
      ]
    },
    {
      "cell_type": "code",
      "metadata": {
        "id": "TnKRbz1I2XaU"
      },
      "source": [
        "from sklearn.cluster import KMeans\n",
        "km = KMeans(n_clusters =12, init='k-means++',random_state=2020).fit(X_train)\n"
      ],
      "execution_count": null,
      "outputs": []
    },
    {
      "cell_type": "code",
      "metadata": {
        "id": "rwhjtv-A2YTe",
        "colab": {
          "base_uri": "https://localhost:8080/",
          "height": 862
        },
        "outputId": "3f154a7f-f6da-4ea3-c44f-15b66baae35d"
      },
      "source": [
        "km.cluster_centers_"
      ],
      "execution_count": null,
      "outputs": [
        {
          "output_type": "execute_result",
          "data": {
            "text/plain": [
              "array([[-1.46026424e-02,  8.32317272e-02, -1.65732884e-01,\n",
              "        -8.94191134e-03,  7.70800974e-01, -5.40564652e-01,\n",
              "         6.34493829e-01, -1.03252879e+00,  6.84737659e-02,\n",
              "         1.00026670e+00, -5.77555549e-01, -5.77350269e-01],\n",
              "       [-2.59214873e-02, -1.16518105e-01,  8.14663596e-02,\n",
              "         9.74875569e-02,  6.95386874e-01, -9.57033366e-02,\n",
              "         6.48424664e-01, -1.03252879e+00,  1.60906815e-02,\n",
              "        -9.99733369e-01,  1.73143519e+00, -5.77350269e-01],\n",
              "       [-1.91595362e-02,  1.45887567e-01,  1.17588784e-02,\n",
              "         2.28438126e-02,  7.04926536e-01, -5.50279330e-01,\n",
              "         6.48424664e-01,  1.33051305e-01, -2.42317033e-02,\n",
              "        -9.99733369e-01, -5.77555549e-01,  1.73205081e+00],\n",
              "       [-2.77337767e-02, -1.23004434e-02, -2.82677067e-01,\n",
              "         3.94921801e-02, -1.11258705e+00,  5.61717636e-01,\n",
              "         6.44930846e-01,  9.68495997e-01, -1.91856753e-02,\n",
              "         1.00026670e+00, -5.77555549e-01, -5.77350269e-01],\n",
              "       [ 1.51522363e-02, -1.08809589e-01,  2.35667936e+00,\n",
              "        -1.85135851e-02, -4.11189938e-01, -3.78640907e-02,\n",
              "         6.46955504e-02,  7.10879033e-01, -1.55433061e-01,\n",
              "         8.20625977e-01, -5.15337236e-01, -4.32148405e-01],\n",
              "       [ 5.44075016e-03,  3.88883560e-02,  5.72449857e-02,\n",
              "        -4.24378374e-02,  7.18043019e-01,  5.71350170e-02,\n",
              "         6.48424664e-01,  9.68495997e-01,  1.67401688e-04,\n",
              "        -9.99733369e-01,  1.73143519e+00, -5.77350269e-01],\n",
              "       [-2.91397697e-02, -2.31054235e-03, -2.37786560e-01,\n",
              "         1.43797131e-02, -1.14234042e+00,  4.63313807e-01,\n",
              "         6.41653030e-01, -1.03252879e+00,  2.66538668e-03,\n",
              "         1.00026670e+00, -5.77555549e-01, -5.77350269e-01],\n",
              "       [ 3.14060444e-02, -5.05151945e-02, -1.55901134e-01,\n",
              "         5.05265191e-02, -1.12005820e+00,  6.21893673e-01,\n",
              "         1.54091444e-01, -7.90049512e-02, -4.91526744e-02,\n",
              "        -9.99733369e-01, -5.77555549e-01,  1.73205081e+00],\n",
              "       [-1.37656129e-02,  5.71207003e-02,  9.64598170e-02,\n",
              "        -3.59250954e-02,  3.70396601e-01, -4.84445188e-01,\n",
              "        -1.54219920e+00,  8.43222538e-02,  4.99089491e-02,\n",
              "        -9.99733369e-01, -5.77555549e-01,  1.73205081e+00],\n",
              "       [-3.56608187e-02, -2.20799427e-02, -2.37136138e-01,\n",
              "        -2.77310962e-02, -2.23572034e-01,  5.16986504e-02,\n",
              "        -1.54219920e+00, -6.01998443e-02,  5.92849603e-02,\n",
              "         1.00026670e+00, -5.77555549e-01, -5.77350269e-01],\n",
              "       [ 7.71391518e-02, -4.59785922e-02,  1.13080130e-01,\n",
              "        -1.01692088e-01,  6.75547391e-01, -5.83296918e-02,\n",
              "        -1.54219920e+00, -2.26138117e-03,  3.44791444e-02,\n",
              "        -9.99733369e-01,  1.73143519e+00, -5.77350269e-01],\n",
              "       [ 6.78206216e-02,  4.84846500e-02, -3.23490281e-01,\n",
              "        -3.67312651e-02,  7.74559997e-01, -5.88455983e-01,\n",
              "         6.16444754e-01,  9.68495997e-01, -5.67881966e-02,\n",
              "         1.00026670e+00, -5.77555549e-01, -5.77350269e-01]])"
            ]
          },
          "metadata": {
            "tags": []
          },
          "execution_count": 354
        }
      ]
    },
    {
      "cell_type": "code",
      "metadata": {
        "id": "Xt_3pqHH2YNF",
        "colab": {
          "base_uri": "https://localhost:8080/",
          "height": 34
        },
        "outputId": "f1dbbd0a-486d-434d-d079-e27dcce6fe47"
      },
      "source": [
        "train_clusters = km.predict(X_train)\n",
        "test_clusters = km.predict(X_test)\n",
        "train_clusters.shape,test_clusters.shape, X_train.shape, X_test.shape"
      ],
      "execution_count": null,
      "outputs": [
        {
          "output_type": "execute_result",
          "data": {
            "text/plain": [
              "((7500,), (2500,), (7500, 12), (2500, 12))"
            ]
          },
          "metadata": {
            "tags": []
          },
          "execution_count": 355
        }
      ]
    },
    {
      "cell_type": "code",
      "metadata": {
        "id": "8bOjXAuT2XU6"
      },
      "source": [
        "df_clusters = pd.DataFrame(data={'cluster':train_clusters})\n"
      ],
      "execution_count": null,
      "outputs": []
    },
    {
      "cell_type": "code",
      "metadata": {
        "id": "PKZdLo8X2XSq",
        "colab": {
          "base_uri": "https://localhost:8080/",
          "height": 34
        },
        "outputId": "d6a5558e-c29e-42c1-8fb5-09428d9447a1"
      },
      "source": [
        "set(df_clusters['cluster'])"
      ],
      "execution_count": null,
      "outputs": [
        {
          "output_type": "execute_result",
          "data": {
            "text/plain": [
              "{0, 1, 2, 3, 4, 5, 6, 7, 8, 9, 10, 11}"
            ]
          },
          "metadata": {
            "tags": []
          },
          "execution_count": 357
        }
      ]
    },
    {
      "cell_type": "code",
      "metadata": {
        "id": "FLfMUx6L6KGC",
        "colab": {
          "base_uri": "https://localhost:8080/",
          "height": 228
        },
        "outputId": "2efeeae7-13dd-4769-e9f2-ae4ba599402a"
      },
      "source": [
        "# To see if the trained clusters are good clusters that have almost equal amount of data points\n",
        "for c in set(df_clusters['cluster']):\n",
        "  print('Center:',c,' Count:',len(df_clusters[df_clusters['cluster'] == c]))"
      ],
      "execution_count": null,
      "outputs": [
        {
          "output_type": "stream",
          "text": [
            "Center: 0  Count: 629\n",
            "Center: 1  Count: 663\n",
            "Center: 2  Count: 594\n",
            "Center: 3  Count: 627\n",
            "Center: 4  Count: 334\n",
            "Center: 5  Count: 666\n",
            "Center: 6  Count: 647\n",
            "Center: 7  Count: 873\n",
            "Center: 8  Count: 387\n",
            "Center: 9  Count: 994\n",
            "Center: 10  Count: 538\n",
            "Center: 11  Count: 548\n"
          ],
          "name": "stdout"
        }
      ]
    },
    {
      "cell_type": "markdown",
      "metadata": {
        "id": "IYYpQd9e6vYm"
      },
      "source": [
        "**Note**: Convert numerical labels of centroids of clusters into one-hot binary form since in the labels of cluster centroid, the range of value doesn't matter and each label should be weighted equally"
      ]
    },
    {
      "cell_type": "code",
      "metadata": {
        "id": "nAN5U1B3WH-X"
      },
      "source": [
        "# One-hot Encoding to convert numerical label to 0,1 binary representation\n",
        "train_clusters = pd.get_dummies(train_clusters)\n",
        "test_clusters = pd.get_dummies(test_clusters)"
      ],
      "execution_count": null,
      "outputs": []
    },
    {
      "cell_type": "code",
      "metadata": {
        "id": "Fa18UO8b9HHI"
      },
      "source": [
        "# train_clusters.reshape([len(train_clusters),1]).shape\n",
        "X_train_cluster = np.concatenate([X_train, train_clusters], axis=1)\n",
        "X_test_cluster = np.concatenate([X_test, test_clusters], axis=1)"
      ],
      "execution_count": null,
      "outputs": []
    },
    {
      "cell_type": "markdown",
      "metadata": {
        "id": "PRoancKD7Ona"
      },
      "source": [
        "### **Note 4.2:** Re-train the selected models using new dataset after adding new feature."
      ]
    },
    {
      "cell_type": "code",
      "metadata": {
        "id": "0azfC0kS9HYE",
        "colab": {
          "base_uri": "https://localhost:8080/",
          "height": 369
        },
        "outputId": "36737e75-0988-40bf-c7c8-14c009fc12da"
      },
      "source": [
        "# Random Forest with Cluster feature\n",
        "parameters = {\n",
        "    'n_estimators' : [40,60,80,100,120,140]\n",
        "}\n",
        "Grid_RF_cluster = GridSearchCV(RandomForestClassifier(),parameters, cv=5)\n",
        "Grid_RF_cluster.fit(X_train_cluster, y_train)"
      ],
      "execution_count": null,
      "outputs": [
        {
          "output_type": "execute_result",
          "data": {
            "text/plain": [
              "GridSearchCV(cv=5, error_score=nan,\n",
              "             estimator=RandomForestClassifier(bootstrap=True, ccp_alpha=0.0,\n",
              "                                              class_weight=None,\n",
              "                                              criterion='gini', max_depth=None,\n",
              "                                              max_features='auto',\n",
              "                                              max_leaf_nodes=None,\n",
              "                                              max_samples=None,\n",
              "                                              min_impurity_decrease=0.0,\n",
              "                                              min_impurity_split=None,\n",
              "                                              min_samples_leaf=1,\n",
              "                                              min_samples_split=2,\n",
              "                                              min_weight_fraction_leaf=0.0,\n",
              "                                              n_estimators=100, n_jobs=None,\n",
              "                                              oob_score=False,\n",
              "                                              random_state=None, verbose=0,\n",
              "                                              warm_start=False),\n",
              "             iid='deprecated', n_jobs=None,\n",
              "             param_grid={'n_estimators': [40, 60, 80, 100, 120, 140]},\n",
              "             pre_dispatch='2*n_jobs', refit=True, return_train_score=False,\n",
              "             scoring=None, verbose=0)"
            ]
          },
          "metadata": {
            "tags": []
          },
          "execution_count": 361
        }
      ]
    },
    {
      "cell_type": "code",
      "metadata": {
        "id": "nPoG5yIxCK1p"
      },
      "source": [
        "# ss.inverse_transform(X_train[:10,:])"
      ],
      "execution_count": null,
      "outputs": []
    },
    {
      "cell_type": "code",
      "metadata": {
        "id": "KxvCeJZfCLTc"
      },
      "source": [
        ""
      ],
      "execution_count": null,
      "outputs": []
    },
    {
      "cell_type": "code",
      "metadata": {
        "id": "plE7iE129Hm5",
        "colab": {
          "base_uri": "https://localhost:8080/",
          "height": 70
        },
        "outputId": "2765c8fd-6e3b-4598-daf3-34f10185bc59"
      },
      "source": [
        "print_grid_search_metrics(Grid_RF_cluster)\n",
        "best_RF_cluster_model = Grid_RF_cluster.best_estimator_"
      ],
      "execution_count": null,
      "outputs": [
        {
          "output_type": "stream",
          "text": [
            "Best score: 0.8621333333333334\n",
            "Best parameters set:\n",
            "n_estimators:80\n"
          ],
          "name": "stdout"
        }
      ]
    },
    {
      "cell_type": "code",
      "metadata": {
        "id": "mW6Dt8hh_E8D",
        "colab": {
          "base_uri": "https://localhost:8080/",
          "height": 34
        },
        "outputId": "a2d8e11b-6a7e-4f7c-d554-3db283ff05ba"
      },
      "source": [
        "new_matrices = [(\"RF with Cluster\",confusion_matrix(y_test,best_RF_cluster_model.predict(X_test_cluster)))]\n",
        "from sklearn.metrics import recall_score, precision_score,accuracy_score\n",
        "print(\"recall:\",recall_score(y_test,best_RF_cluster_model.predict(X_test_cluster)),\n",
        "'Precisoin:',precision_score(y_test,best_RF_cluster_model.predict(X_test_cluster)),\n",
        "'Accuracy:',accuracy_score(y_test,best_RF_cluster_model.predict(X_test_cluster)))\n",
        "# draw_performance_tb(new_matrices)\n",
        "# new_matrices"
      ],
      "execution_count": null,
      "outputs": [
        {
          "output_type": "stream",
          "text": [
            "recall: 0.4106090373280943 Precisoin: 0.7655677655677655 Accuracy: 0.8544\n"
          ],
          "name": "stdout"
        }
      ]
    },
    {
      "cell_type": "code",
      "metadata": {
        "id": "3Ktm_VW5_FUf",
        "colab": {
          "base_uri": "https://localhost:8080/",
          "height": 228
        },
        "outputId": "e9fb2b69-03e3-4a30-ce13-1e5a177099c8"
      },
      "source": [
        "# SVC\n",
        "parameters = {\n",
        "    'C' : [0.001,1, 3 ,5, 10],\n",
        "    'kernel':['rbf'],\n",
        "    # 'degree': [2,3,4],  # degree of the polynominal kernel\n",
        "    \"probability\":[True]\n",
        "}\n",
        "Grid_SVC_cluster = GridSearchCV(SVC(),parameters, cv=5)\n",
        "Grid_SVC_cluster.fit(X_train_cluster, y_train)"
      ],
      "execution_count": null,
      "outputs": [
        {
          "output_type": "execute_result",
          "data": {
            "text/plain": [
              "GridSearchCV(cv=5, error_score=nan,\n",
              "             estimator=SVC(C=1.0, break_ties=False, cache_size=200,\n",
              "                           class_weight=None, coef0=0.0,\n",
              "                           decision_function_shape='ovr', degree=3,\n",
              "                           gamma='scale', kernel='rbf', max_iter=-1,\n",
              "                           probability=False, random_state=None, shrinking=True,\n",
              "                           tol=0.001, verbose=False),\n",
              "             iid='deprecated', n_jobs=None,\n",
              "             param_grid={'C': [0.001, 1, 3, 5, 10], 'kernel': ['rbf'],\n",
              "                         'probability': [True]},\n",
              "             pre_dispatch='2*n_jobs', refit=True, return_train_score=False,\n",
              "             scoring=None, verbose=0)"
            ]
          },
          "metadata": {
            "tags": []
          },
          "execution_count": 365
        }
      ]
    },
    {
      "cell_type": "code",
      "metadata": {
        "id": "m7vknZ4pCeeA",
        "colab": {
          "base_uri": "https://localhost:8080/",
          "height": 105
        },
        "outputId": "b0fb01c9-b4ee-4b59-cf0a-64806dcf2f74"
      },
      "source": [
        "print_grid_search_metrics(Grid_SVC_cluster)\n",
        "best_SVC_cluster_model = Grid_SVC_cluster.best_estimator_"
      ],
      "execution_count": null,
      "outputs": [
        {
          "output_type": "stream",
          "text": [
            "Best score: 0.8575999999999999\n",
            "Best parameters set:\n",
            "C:3\n",
            "kernel:rbf\n",
            "probability:True\n"
          ],
          "name": "stdout"
        }
      ]
    },
    {
      "cell_type": "code",
      "metadata": {
        "id": "AxnTQaoFCesE",
        "colab": {
          "base_uri": "https://localhost:8080/",
          "height": 246
        },
        "outputId": "d625f6e3-2fed-4f7a-e6c4-27154b2ad6e6"
      },
      "source": [
        "parameters = {\n",
        "    'penalty':('l1', 'l2'), \n",
        "    'C':(0.001, 0.01, 1, 5, 10)\n",
        "}\n",
        "Grid_LR_cluster = GridSearchCV(LogisticRegression(solver='liblinear'),parameters, cv=5)\n",
        "Grid_LR_cluster.fit(X_train_cluster, y_train)"
      ],
      "execution_count": null,
      "outputs": [
        {
          "output_type": "execute_result",
          "data": {
            "text/plain": [
              "GridSearchCV(cv=5, error_score=nan,\n",
              "             estimator=LogisticRegression(C=1.0, class_weight=None, dual=False,\n",
              "                                          fit_intercept=True,\n",
              "                                          intercept_scaling=1, l1_ratio=None,\n",
              "                                          max_iter=100, multi_class='auto',\n",
              "                                          n_jobs=None, penalty='l2',\n",
              "                                          random_state=None, solver='liblinear',\n",
              "                                          tol=0.0001, verbose=0,\n",
              "                                          warm_start=False),\n",
              "             iid='deprecated', n_jobs=None,\n",
              "             param_grid={'C': (0.001, 0.01, 1, 5, 10), 'penalty': ('l1', 'l2')},\n",
              "             pre_dispatch='2*n_jobs', refit=True, return_train_score=False,\n",
              "             scoring=None, verbose=0)"
            ]
          },
          "metadata": {
            "tags": []
          },
          "execution_count": 367
        }
      ]
    },
    {
      "cell_type": "code",
      "metadata": {
        "id": "16XuepkYCe2E",
        "colab": {
          "base_uri": "https://localhost:8080/",
          "height": 87
        },
        "outputId": "27acb6bc-3b51-4506-8415-e22e98c9f172"
      },
      "source": [
        "print_grid_search_metrics(Grid_LR_cluster)\n",
        "best_LR_cluster_model = Grid_LR_cluster.best_estimator_"
      ],
      "execution_count": null,
      "outputs": [
        {
          "output_type": "stream",
          "text": [
            "Best score: 0.8186666666666668\n",
            "Best parameters set:\n",
            "C:5\n",
            "penalty:l1\n"
          ],
          "name": "stdout"
        }
      ]
    },
    {
      "cell_type": "code",
      "metadata": {
        "id": "Jk21gYD8DUzz",
        "colab": {
          "base_uri": "https://localhost:8080/",
          "height": 193
        },
        "outputId": "2113edc9-6696-4fbf-af16-c0e3c127b5b1"
      },
      "source": [
        "parameters = {\n",
        "    'n_neighbors':[1,3,5,7,9,12,15,20]\n",
        "}\n",
        "Grid_KNN_cluster = GridSearchCV(KNeighborsClassifier(),parameters, cv=5)\n",
        "Grid_KNN_cluster.fit(X_train_cluster, y_train)"
      ],
      "execution_count": null,
      "outputs": [
        {
          "output_type": "execute_result",
          "data": {
            "text/plain": [
              "GridSearchCV(cv=5, error_score=nan,\n",
              "             estimator=KNeighborsClassifier(algorithm='auto', leaf_size=30,\n",
              "                                            metric='minkowski',\n",
              "                                            metric_params=None, n_jobs=None,\n",
              "                                            n_neighbors=5, p=2,\n",
              "                                            weights='uniform'),\n",
              "             iid='deprecated', n_jobs=None,\n",
              "             param_grid={'n_neighbors': [1, 3, 5, 7, 9, 12, 15, 20]},\n",
              "             pre_dispatch='2*n_jobs', refit=True, return_train_score=False,\n",
              "             scoring=None, verbose=0)"
            ]
          },
          "metadata": {
            "tags": []
          },
          "execution_count": 369
        }
      ]
    },
    {
      "cell_type": "code",
      "metadata": {
        "id": "knJl6_04DVMP",
        "colab": {
          "base_uri": "https://localhost:8080/",
          "height": 70
        },
        "outputId": "f50cc968-b4fd-4d2d-c2b0-957a263252cb"
      },
      "source": [
        "print_grid_search_metrics(Grid_KNN_cluster)\n",
        "best_KNN_cluster_model = Grid_KNN_cluster.best_estimator_"
      ],
      "execution_count": null,
      "outputs": [
        {
          "output_type": "stream",
          "text": [
            "Best score: 0.8310666666666666\n",
            "Best parameters set:\n",
            "n_neighbors:15\n"
          ],
          "name": "stdout"
        }
      ]
    },
    {
      "cell_type": "code",
      "metadata": {
        "id": "DBFQNy6zDV7K"
      },
      "source": [
        "model_names = ['logistic Reg with Cluster','KNN with Cluster','Random Forest with Cluster','SVC with Cluster']\n",
        "confusion_matrices_cluster =[]\n",
        "matrices_cluster = [ confusion_matrix(y_test,best_LR_cluster_model.predict(X_test_cluster)),\n",
        " confusion_matrix(y_test,best_KNN_cluster_model.predict(X_test_cluster)),\n",
        " confusion_matrix(y_test,best_RF_cluster_model.predict(X_test_cluster)),\n",
        " confusion_matrix(y_test,best_SVC_cluster_model.predict(X_test_cluster))]\n",
        "\n",
        "for i in range(len(matrices_cluster)):\n",
        "  confusion_matrices_cluster.append((model_names[i], matrices_cluster[i]))\n"
      ],
      "execution_count": null,
      "outputs": []
    },
    {
      "cell_type": "code",
      "metadata": {
        "id": "VxUt2z4vDWHX",
        "colab": {
          "base_uri": "https://localhost:8080/",
          "height": 87
        },
        "outputId": "8a5ec328-30b5-4da5-ebae-50addef74364"
      },
      "source": [
        "model_names = ['logistic Reg with Cluster','KNN with Cluster','Random Forest with Cluster','SVC with Cluster']\n",
        "model_ls = [best_LR_cluster_model,best_KNN_cluster_model,best_RF_cluster_model,best_SVC_cluster_model]\n",
        "for i, model in enumerate(model_ls):\n",
        "  print(model_names[i],': ',\n",
        "      \"recall:\",recall_score(y_test,model.predict(X_test_cluster)),'\\t',\n",
        "  'Precisoin:',precision_score(y_test,model.predict(X_test_cluster)),'\\t',\n",
        "  'Accuracy:',accuracy_score(y_test,model.predict(X_test_cluster)))"
      ],
      "execution_count": null,
      "outputs": [
        {
          "output_type": "stream",
          "text": [
            "logistic Reg with Cluster :  recall: 0.2357563850687623 \t Precisoin: 0.6629834254143646 \t Accuracy: 0.82\n",
            "KNN with Cluster :  recall: 0.29469548133595286 \t Precisoin: 0.6976744186046512 \t Accuracy: 0.8304\n",
            "Random Forest with Cluster :  recall: 0.4106090373280943 \t Precisoin: 0.7655677655677655 \t Accuracy: 0.8544\n",
            "SVC with Cluster :  recall: 0.4263261296660118 \t Precisoin: 0.7805755395683454 \t Accuracy: 0.8588\n"
          ],
          "name": "stdout"
        }
      ]
    },
    {
      "cell_type": "code",
      "metadata": {
        "id": "7sCtd_IeJMdC",
        "colab": {
          "base_uri": "https://localhost:8080/",
          "height": 87
        },
        "outputId": "eec10a78-dc7b-4f3e-910e-04e8b43a05f5"
      },
      "source": [
        "model_names = ['logistic Reg','KNN','Random Forest','SVC']\n",
        "model_ls = [best_LR_model,best_KNN_model,best_RF_model,best_SVC_model]\n",
        "for i, model in enumerate(model_ls):\n",
        "  print(model_names[i],': ',\n",
        "      \"recall:\",recall_score(y_test,model.predict(X_test)),'\\t',\n",
        "  'Precisoin:',precision_score(y_test,model.predict(X_test)),'\\t',\n",
        "  'Accuracy:',accuracy_score(y_test,model.predict(X_test)))"
      ],
      "execution_count": null,
      "outputs": [
        {
          "output_type": "stream",
          "text": [
            "logistic Reg :  recall: 0.1944990176817289 \t Precisoin: 0.5857988165680473 \t Accuracy: 0.808\n",
            "KNN :  recall: 0.30844793713163066 \t Precisoin: 0.6885964912280702 \t Accuracy: 0.8308\n",
            "Random Forest :  recall: 0.4400785854616896 \t Precisoin: 0.7750865051903114 \t Accuracy: 0.86\n",
            "SVC :  recall: 0.41846758349705304 \t Precisoin: 0.7773722627737226 \t Accuracy: 0.8572\n"
          ],
          "name": "stdout"
        }
      ]
    },
    {
      "cell_type": "code",
      "metadata": {
        "id": "CVFj6p0IPPrX",
        "colab": {
          "base_uri": "https://localhost:8080/",
          "height": 166
        },
        "outputId": "58fa355c-3706-4ee5-f937-f439c0c5a5a7"
      },
      "source": [
        "draw_performance_tb(confusion_matrices_cluster)"
      ],
      "execution_count": null,
      "outputs": [
        {
          "output_type": "execute_result",
          "data": {
            "text/html": [
              "<div>\n",
              "<style scoped>\n",
              "    .dataframe tbody tr th:only-of-type {\n",
              "        vertical-align: middle;\n",
              "    }\n",
              "\n",
              "    .dataframe tbody tr th {\n",
              "        vertical-align: top;\n",
              "    }\n",
              "\n",
              "    .dataframe thead th {\n",
              "        text-align: right;\n",
              "    }\n",
              "</style>\n",
              "<table border=\"1\" class=\"dataframe\">\n",
              "  <thead>\n",
              "    <tr style=\"text-align: right;\">\n",
              "      <th></th>\n",
              "      <th>model</th>\n",
              "      <th>Accuracy</th>\n",
              "      <th>Precision</th>\n",
              "      <th>Recall</th>\n",
              "    </tr>\n",
              "  </thead>\n",
              "  <tbody>\n",
              "    <tr>\n",
              "      <th>0</th>\n",
              "      <td>logistic Reg with Cluster</td>\n",
              "      <td>0.8200</td>\n",
              "      <td>0.662983</td>\n",
              "      <td>0.235756</td>\n",
              "    </tr>\n",
              "    <tr>\n",
              "      <th>1</th>\n",
              "      <td>KNN with Cluster</td>\n",
              "      <td>0.8304</td>\n",
              "      <td>0.697674</td>\n",
              "      <td>0.294695</td>\n",
              "    </tr>\n",
              "    <tr>\n",
              "      <th>2</th>\n",
              "      <td>Random Forest with Cluster</td>\n",
              "      <td>0.8544</td>\n",
              "      <td>0.765568</td>\n",
              "      <td>0.410609</td>\n",
              "    </tr>\n",
              "    <tr>\n",
              "      <th>3</th>\n",
              "      <td>SVC with Cluster</td>\n",
              "      <td>0.8588</td>\n",
              "      <td>0.780576</td>\n",
              "      <td>0.426326</td>\n",
              "    </tr>\n",
              "  </tbody>\n",
              "</table>\n",
              "</div>"
            ],
            "text/plain": [
              "                        model  Accuracy  Precision    Recall\n",
              "0   logistic Reg with Cluster    0.8200   0.662983  0.235756\n",
              "1            KNN with Cluster    0.8304   0.697674  0.294695\n",
              "2  Random Forest with Cluster    0.8544   0.765568  0.410609\n",
              "3            SVC with Cluster    0.8588   0.780576  0.426326"
            ]
          },
          "metadata": {
            "tags": []
          },
          "execution_count": 374
        }
      ]
    },
    {
      "cell_type": "code",
      "metadata": {
        "id": "dU_CYI4lPP6P",
        "colab": {
          "base_uri": "https://localhost:8080/",
          "height": 166
        },
        "outputId": "8e051ccb-2c62-4e71-8a7c-ee1ce1113068"
      },
      "source": [
        "draw_performance_tb(confusion_matrices)"
      ],
      "execution_count": null,
      "outputs": [
        {
          "output_type": "execute_result",
          "data": {
            "text/html": [
              "<div>\n",
              "<style scoped>\n",
              "    .dataframe tbody tr th:only-of-type {\n",
              "        vertical-align: middle;\n",
              "    }\n",
              "\n",
              "    .dataframe tbody tr th {\n",
              "        vertical-align: top;\n",
              "    }\n",
              "\n",
              "    .dataframe thead th {\n",
              "        text-align: right;\n",
              "    }\n",
              "</style>\n",
              "<table border=\"1\" class=\"dataframe\">\n",
              "  <thead>\n",
              "    <tr style=\"text-align: right;\">\n",
              "      <th></th>\n",
              "      <th>model</th>\n",
              "      <th>Accuracy</th>\n",
              "      <th>Precision</th>\n",
              "      <th>Recall</th>\n",
              "    </tr>\n",
              "  </thead>\n",
              "  <tbody>\n",
              "    <tr>\n",
              "      <th>0</th>\n",
              "      <td>logistic Reg</td>\n",
              "      <td>0.8080</td>\n",
              "      <td>0.585799</td>\n",
              "      <td>0.194499</td>\n",
              "    </tr>\n",
              "    <tr>\n",
              "      <th>1</th>\n",
              "      <td>KNN</td>\n",
              "      <td>0.8308</td>\n",
              "      <td>0.688596</td>\n",
              "      <td>0.308448</td>\n",
              "    </tr>\n",
              "    <tr>\n",
              "      <th>2</th>\n",
              "      <td>Random Forest</td>\n",
              "      <td>0.8600</td>\n",
              "      <td>0.775087</td>\n",
              "      <td>0.440079</td>\n",
              "    </tr>\n",
              "    <tr>\n",
              "      <th>3</th>\n",
              "      <td>SVC</td>\n",
              "      <td>0.8572</td>\n",
              "      <td>0.777372</td>\n",
              "      <td>0.418468</td>\n",
              "    </tr>\n",
              "  </tbody>\n",
              "</table>\n",
              "</div>"
            ],
            "text/plain": [
              "           model  Accuracy  Precision    Recall\n",
              "0   logistic Reg    0.8080   0.585799  0.194499\n",
              "1            KNN    0.8308   0.688596  0.308448\n",
              "2  Random Forest    0.8600   0.775087  0.440079\n",
              "3            SVC    0.8572   0.777372  0.418468"
            ]
          },
          "metadata": {
            "tags": []
          },
          "execution_count": 375
        }
      ]
    },
    {
      "cell_type": "markdown",
      "metadata": {
        "id": "DRxo9-gh6njZ"
      },
      "source": [
        "### Summary:\n",
        "We can see that after adding the feature of k-mean cluster, all performances of Logistic Regression are improved,where accuracy is improved by 2%. Performances of SVC classifier are also improved slightly. In KNN, there is tradeoff between precision and recall. Accuracy, Recall and Precision of Random Forest are decreased slightly.\n",
        "\n",
        "In these models, SVC and Random Forest are suggested to solve this Customer Churn Prediction problem. In addition, we can also try neural network method to see if it works for this problem."
      ]
    },
    {
      "cell_type": "code",
      "metadata": {
        "id": "Lsp0qkNwFtjz",
        "colab": {
          "base_uri": "https://localhost:8080/",
          "height": 34
        },
        "outputId": "58c78a34-c086-4b55-8aee-91cc7ae69ec9"
      },
      "source": [
        "X_train_cluster[0].shape"
      ],
      "execution_count": null,
      "outputs": [
        {
          "output_type": "execute_result",
          "data": {
            "text/plain": [
              "(24,)"
            ]
          },
          "metadata": {
            "tags": []
          },
          "execution_count": 425
        }
      ]
    },
    {
      "cell_type": "code",
      "metadata": {
        "id": "BEd47Xla81tO",
        "colab": {
          "base_uri": "https://localhost:8080/",
          "height": 385
        },
        "outputId": "795af813-edb5-4bc2-bb65-36dcf12ab515"
      },
      "source": [
        "from tensorflow.keras import Sequential\n",
        "from tensorflow.keras.layers import Dense, GlobalAveragePooling1D, Conv1D, InputLayer, Dropout, Flatten\n",
        "data_shape = (X_train_cluster.shape[1],)\n",
        "def NN_model(input_shape):\n",
        "  nn_model = Sequential()\n",
        "  nn_model.add(Conv1D(1,strides=1,kernel_size=3, padding='same',input_shape=input_shape))\n",
        "  nn_model.add(Dense(24,activation='relu'))\n",
        "  nn_model.add(Dropout(0.3))\n",
        "\n",
        "  \n",
        "  # nn_model.add(Dense(6, ))\n",
        "  # nn_model.add(Dropout(0.3))\n",
        "  # nn_model.add(GlobalAveragePooling1D())\n",
        "  model.add(Flatten())\n",
        "  nn_model.add(Dense(1, activation='softmax'))\n",
        "  \n",
        "  return nn_model\n",
        "nn_model = NN_model(data_shape)\n",
        "nn_model.compile(optimizer=\"adam\", loss='binary_crossentropy', metrics=['accuracy'])\n",
        "print(nn_model.summary())\n",
        "nn_model.fit(X_train_cluster,y_train, epochs=5,batch_size=10)\n"
      ],
      "execution_count": null,
      "outputs": [
        {
          "output_type": "error",
          "ename": "ValueError",
          "evalue": "ignored",
          "traceback": [
            "\u001b[0;31m---------------------------------------------------------------------------\u001b[0m",
            "\u001b[0;31mValueError\u001b[0m                                Traceback (most recent call last)",
            "\u001b[0;32m<ipython-input-432-4120fd4e84f2>\u001b[0m in \u001b[0;36m<module>\u001b[0;34m()\u001b[0m\n\u001b[1;32m     16\u001b[0m \u001b[0;34m\u001b[0m\u001b[0m\n\u001b[1;32m     17\u001b[0m   \u001b[0;32mreturn\u001b[0m \u001b[0mnn_model\u001b[0m\u001b[0;34m\u001b[0m\u001b[0;34m\u001b[0m\u001b[0m\n\u001b[0;32m---> 18\u001b[0;31m \u001b[0mnn_model\u001b[0m \u001b[0;34m=\u001b[0m \u001b[0mNN_model\u001b[0m\u001b[0;34m(\u001b[0m\u001b[0mdata_shape\u001b[0m\u001b[0;34m)\u001b[0m\u001b[0;34m\u001b[0m\u001b[0;34m\u001b[0m\u001b[0m\n\u001b[0m\u001b[1;32m     19\u001b[0m \u001b[0mnn_model\u001b[0m\u001b[0;34m.\u001b[0m\u001b[0mcompile\u001b[0m\u001b[0;34m(\u001b[0m\u001b[0moptimizer\u001b[0m\u001b[0;34m=\u001b[0m\u001b[0;34m\"adam\"\u001b[0m\u001b[0;34m,\u001b[0m \u001b[0mloss\u001b[0m\u001b[0;34m=\u001b[0m\u001b[0;34m'binary_crossentropy'\u001b[0m\u001b[0;34m,\u001b[0m \u001b[0mmetrics\u001b[0m\u001b[0;34m=\u001b[0m\u001b[0;34m[\u001b[0m\u001b[0;34m'accuracy'\u001b[0m\u001b[0;34m]\u001b[0m\u001b[0;34m)\u001b[0m\u001b[0;34m\u001b[0m\u001b[0;34m\u001b[0m\u001b[0m\n\u001b[1;32m     20\u001b[0m \u001b[0mprint\u001b[0m\u001b[0;34m(\u001b[0m\u001b[0mnn_model\u001b[0m\u001b[0;34m.\u001b[0m\u001b[0msummary\u001b[0m\u001b[0;34m(\u001b[0m\u001b[0;34m)\u001b[0m\u001b[0;34m)\u001b[0m\u001b[0;34m\u001b[0m\u001b[0;34m\u001b[0m\u001b[0m\n",
            "\u001b[0;32m<ipython-input-432-4120fd4e84f2>\u001b[0m in \u001b[0;36mNN_model\u001b[0;34m(input_shape)\u001b[0m\n\u001b[1;32m      4\u001b[0m \u001b[0;32mdef\u001b[0m \u001b[0mNN_model\u001b[0m\u001b[0;34m(\u001b[0m\u001b[0minput_shape\u001b[0m\u001b[0;34m)\u001b[0m\u001b[0;34m:\u001b[0m\u001b[0;34m\u001b[0m\u001b[0;34m\u001b[0m\u001b[0m\n\u001b[1;32m      5\u001b[0m   \u001b[0mnn_model\u001b[0m \u001b[0;34m=\u001b[0m \u001b[0mSequential\u001b[0m\u001b[0;34m(\u001b[0m\u001b[0;34m)\u001b[0m\u001b[0;34m\u001b[0m\u001b[0;34m\u001b[0m\u001b[0m\n\u001b[0;32m----> 6\u001b[0;31m   \u001b[0mnn_model\u001b[0m\u001b[0;34m.\u001b[0m\u001b[0madd\u001b[0m\u001b[0;34m(\u001b[0m\u001b[0mConv1D\u001b[0m\u001b[0;34m(\u001b[0m\u001b[0;36m1\u001b[0m\u001b[0;34m,\u001b[0m\u001b[0mstrides\u001b[0m\u001b[0;34m=\u001b[0m\u001b[0;36m1\u001b[0m\u001b[0;34m,\u001b[0m\u001b[0mkernel_size\u001b[0m\u001b[0;34m=\u001b[0m\u001b[0;36m3\u001b[0m\u001b[0;34m,\u001b[0m \u001b[0mpadding\u001b[0m\u001b[0;34m=\u001b[0m\u001b[0;34m'same'\u001b[0m\u001b[0;34m,\u001b[0m\u001b[0minput_shape\u001b[0m\u001b[0;34m=\u001b[0m\u001b[0minput_shape\u001b[0m\u001b[0;34m)\u001b[0m\u001b[0;34m)\u001b[0m\u001b[0;34m\u001b[0m\u001b[0;34m\u001b[0m\u001b[0m\n\u001b[0m\u001b[1;32m      7\u001b[0m   \u001b[0mnn_model\u001b[0m\u001b[0;34m.\u001b[0m\u001b[0madd\u001b[0m\u001b[0;34m(\u001b[0m\u001b[0mDense\u001b[0m\u001b[0;34m(\u001b[0m\u001b[0;36m24\u001b[0m\u001b[0;34m,\u001b[0m\u001b[0mactivation\u001b[0m\u001b[0;34m=\u001b[0m\u001b[0;34m'relu'\u001b[0m\u001b[0;34m)\u001b[0m\u001b[0;34m)\u001b[0m\u001b[0;34m\u001b[0m\u001b[0;34m\u001b[0m\u001b[0m\n\u001b[1;32m      8\u001b[0m   \u001b[0mnn_model\u001b[0m\u001b[0;34m.\u001b[0m\u001b[0madd\u001b[0m\u001b[0;34m(\u001b[0m\u001b[0mDropout\u001b[0m\u001b[0;34m(\u001b[0m\u001b[0;36m0.3\u001b[0m\u001b[0;34m)\u001b[0m\u001b[0;34m)\u001b[0m\u001b[0;34m\u001b[0m\u001b[0;34m\u001b[0m\u001b[0m\n",
            "\u001b[0;32m/usr/local/lib/python3.6/dist-packages/tensorflow/python/training/tracking/base.py\u001b[0m in \u001b[0;36m_method_wrapper\u001b[0;34m(self, *args, **kwargs)\u001b[0m\n\u001b[1;32m    455\u001b[0m     \u001b[0mself\u001b[0m\u001b[0;34m.\u001b[0m\u001b[0m_self_setattr_tracking\u001b[0m \u001b[0;34m=\u001b[0m \u001b[0;32mFalse\u001b[0m  \u001b[0;31m# pylint: disable=protected-access\u001b[0m\u001b[0;34m\u001b[0m\u001b[0;34m\u001b[0m\u001b[0m\n\u001b[1;32m    456\u001b[0m     \u001b[0;32mtry\u001b[0m\u001b[0;34m:\u001b[0m\u001b[0;34m\u001b[0m\u001b[0;34m\u001b[0m\u001b[0m\n\u001b[0;32m--> 457\u001b[0;31m       \u001b[0mresult\u001b[0m \u001b[0;34m=\u001b[0m \u001b[0mmethod\u001b[0m\u001b[0;34m(\u001b[0m\u001b[0mself\u001b[0m\u001b[0;34m,\u001b[0m \u001b[0;34m*\u001b[0m\u001b[0margs\u001b[0m\u001b[0;34m,\u001b[0m \u001b[0;34m**\u001b[0m\u001b[0mkwargs\u001b[0m\u001b[0;34m)\u001b[0m\u001b[0;34m\u001b[0m\u001b[0;34m\u001b[0m\u001b[0m\n\u001b[0m\u001b[1;32m    458\u001b[0m     \u001b[0;32mfinally\u001b[0m\u001b[0;34m:\u001b[0m\u001b[0;34m\u001b[0m\u001b[0;34m\u001b[0m\u001b[0m\n\u001b[1;32m    459\u001b[0m       \u001b[0mself\u001b[0m\u001b[0;34m.\u001b[0m\u001b[0m_self_setattr_tracking\u001b[0m \u001b[0;34m=\u001b[0m \u001b[0mprevious_value\u001b[0m  \u001b[0;31m# pylint: disable=protected-access\u001b[0m\u001b[0;34m\u001b[0m\u001b[0;34m\u001b[0m\u001b[0m\n",
            "\u001b[0;32m/usr/local/lib/python3.6/dist-packages/tensorflow/python/keras/engine/sequential.py\u001b[0m in \u001b[0;36madd\u001b[0;34m(self, layer)\u001b[0m\n\u001b[1;32m    204\u001b[0m           \u001b[0;31m# and create the node connecting the current layer\u001b[0m\u001b[0;34m\u001b[0m\u001b[0;34m\u001b[0m\u001b[0;34m\u001b[0m\u001b[0m\n\u001b[1;32m    205\u001b[0m           \u001b[0;31m# to the input layer we just created.\u001b[0m\u001b[0;34m\u001b[0m\u001b[0;34m\u001b[0m\u001b[0;34m\u001b[0m\u001b[0m\n\u001b[0;32m--> 206\u001b[0;31m           \u001b[0mlayer\u001b[0m\u001b[0;34m(\u001b[0m\u001b[0mx\u001b[0m\u001b[0;34m)\u001b[0m\u001b[0;34m\u001b[0m\u001b[0;34m\u001b[0m\u001b[0m\n\u001b[0m\u001b[1;32m    207\u001b[0m           \u001b[0mset_inputs\u001b[0m \u001b[0;34m=\u001b[0m \u001b[0;32mTrue\u001b[0m\u001b[0;34m\u001b[0m\u001b[0;34m\u001b[0m\u001b[0m\n\u001b[1;32m    208\u001b[0m \u001b[0;34m\u001b[0m\u001b[0m\n",
            "\u001b[0;32m/usr/local/lib/python3.6/dist-packages/tensorflow/python/keras/engine/base_layer.py\u001b[0m in \u001b[0;36m__call__\u001b[0;34m(self, *args, **kwargs)\u001b[0m\n\u001b[1;32m    924\u001b[0m     \u001b[0;32mif\u001b[0m \u001b[0m_in_functional_construction_mode\u001b[0m\u001b[0;34m(\u001b[0m\u001b[0mself\u001b[0m\u001b[0;34m,\u001b[0m \u001b[0minputs\u001b[0m\u001b[0;34m,\u001b[0m \u001b[0margs\u001b[0m\u001b[0;34m,\u001b[0m \u001b[0mkwargs\u001b[0m\u001b[0;34m,\u001b[0m \u001b[0minput_list\u001b[0m\u001b[0;34m)\u001b[0m\u001b[0;34m:\u001b[0m\u001b[0;34m\u001b[0m\u001b[0;34m\u001b[0m\u001b[0m\n\u001b[1;32m    925\u001b[0m       return self._functional_construction_call(inputs, args, kwargs,\n\u001b[0;32m--> 926\u001b[0;31m                                                 input_list)\n\u001b[0m\u001b[1;32m    927\u001b[0m \u001b[0;34m\u001b[0m\u001b[0m\n\u001b[1;32m    928\u001b[0m     \u001b[0;31m# Maintains info about the `Layer.call` stack.\u001b[0m\u001b[0;34m\u001b[0m\u001b[0;34m\u001b[0m\u001b[0;34m\u001b[0m\u001b[0m\n",
            "\u001b[0;32m/usr/local/lib/python3.6/dist-packages/tensorflow/python/keras/engine/base_layer.py\u001b[0m in \u001b[0;36m_functional_construction_call\u001b[0;34m(self, inputs, args, kwargs, input_list)\u001b[0m\n\u001b[1;32m   1090\u001b[0m       \u001b[0;31m# TODO(reedwm): We should assert input compatibility after the inputs\u001b[0m\u001b[0;34m\u001b[0m\u001b[0;34m\u001b[0m\u001b[0;34m\u001b[0m\u001b[0m\n\u001b[1;32m   1091\u001b[0m       \u001b[0;31m# are casted, not before.\u001b[0m\u001b[0;34m\u001b[0m\u001b[0;34m\u001b[0m\u001b[0;34m\u001b[0m\u001b[0m\n\u001b[0;32m-> 1092\u001b[0;31m       \u001b[0minput_spec\u001b[0m\u001b[0;34m.\u001b[0m\u001b[0massert_input_compatibility\u001b[0m\u001b[0;34m(\u001b[0m\u001b[0mself\u001b[0m\u001b[0;34m.\u001b[0m\u001b[0minput_spec\u001b[0m\u001b[0;34m,\u001b[0m \u001b[0minputs\u001b[0m\u001b[0;34m,\u001b[0m \u001b[0mself\u001b[0m\u001b[0;34m.\u001b[0m\u001b[0mname\u001b[0m\u001b[0;34m)\u001b[0m\u001b[0;34m\u001b[0m\u001b[0;34m\u001b[0m\u001b[0m\n\u001b[0m\u001b[1;32m   1093\u001b[0m       \u001b[0mgraph\u001b[0m \u001b[0;34m=\u001b[0m \u001b[0mbackend\u001b[0m\u001b[0;34m.\u001b[0m\u001b[0mget_graph\u001b[0m\u001b[0;34m(\u001b[0m\u001b[0;34m)\u001b[0m\u001b[0;34m\u001b[0m\u001b[0;34m\u001b[0m\u001b[0m\n\u001b[1;32m   1094\u001b[0m       \u001b[0;31m# Use `self._name_scope()` to avoid auto-incrementing the name.\u001b[0m\u001b[0;34m\u001b[0m\u001b[0;34m\u001b[0m\u001b[0;34m\u001b[0m\u001b[0m\n",
            "\u001b[0;32m/usr/local/lib/python3.6/dist-packages/tensorflow/python/keras/engine/input_spec.py\u001b[0m in \u001b[0;36massert_input_compatibility\u001b[0;34m(input_spec, inputs, layer_name)\u001b[0m\n\u001b[1;32m    194\u001b[0m                          \u001b[0;34m', found ndim='\u001b[0m \u001b[0;34m+\u001b[0m \u001b[0mstr\u001b[0m\u001b[0;34m(\u001b[0m\u001b[0mndim\u001b[0m\u001b[0;34m)\u001b[0m \u001b[0;34m+\u001b[0m\u001b[0;34m\u001b[0m\u001b[0;34m\u001b[0m\u001b[0m\n\u001b[1;32m    195\u001b[0m                          \u001b[0;34m'. Full shape received: '\u001b[0m \u001b[0;34m+\u001b[0m\u001b[0;34m\u001b[0m\u001b[0;34m\u001b[0m\u001b[0m\n\u001b[0;32m--> 196\u001b[0;31m                          str(x.shape.as_list()))\n\u001b[0m\u001b[1;32m    197\u001b[0m     \u001b[0;31m# Check dtype.\u001b[0m\u001b[0;34m\u001b[0m\u001b[0;34m\u001b[0m\u001b[0;34m\u001b[0m\u001b[0m\n\u001b[1;32m    198\u001b[0m     \u001b[0;32mif\u001b[0m \u001b[0mspec\u001b[0m\u001b[0;34m.\u001b[0m\u001b[0mdtype\u001b[0m \u001b[0;32mis\u001b[0m \u001b[0;32mnot\u001b[0m \u001b[0;32mNone\u001b[0m\u001b[0;34m:\u001b[0m\u001b[0;34m\u001b[0m\u001b[0;34m\u001b[0m\u001b[0m\n",
            "\u001b[0;31mValueError\u001b[0m: Input 0 of layer conv1d_27 is incompatible with the layer: : expected min_ndim=3, found ndim=2. Full shape received: [None, 24]"
          ]
        }
      ]
    }
  ]
}